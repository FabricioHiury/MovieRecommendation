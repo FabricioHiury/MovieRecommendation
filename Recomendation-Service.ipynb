{
 "cells": [
  {
   "cell_type": "markdown",
   "metadata": {},
   "source": [
    "### Importando as bibliotecas"
   ]
  },
  {
   "cell_type": "code",
   "execution_count": 4,
   "metadata": {},
   "outputs": [],
   "source": [
    "import django\n",
    "import os\n",
    "os.environ.setdefault(\"DJANGO_SETTINGS_MODULE\", \"MovieRecomendation.settings\")\n",
    "django.setup()"
   ]
  },
  {
   "cell_type": "code",
   "execution_count": 6,
   "metadata": {},
   "outputs": [],
   "source": [
    "from recommendations.utils import get_all_movies, search_movies"
   ]
  },
  {
   "cell_type": "code",
   "execution_count": 7,
   "metadata": {},
   "outputs": [],
   "source": [
    "movies = get_all_movies()"
   ]
  },
  {
   "cell_type": "code",
   "execution_count": 8,
   "metadata": {},
   "outputs": [
    {
     "name": "stdout",
     "output_type": "stream",
     "text": [
      "{'page': 1, 'results': [{'adult': False, 'backdrop_path': '/4woSOUD0equAYzvwhWBHIJDCM88.jpg', 'genre_ids': [28, 27, 53], 'id': 1096197, 'original_language': 'en', 'original_title': 'No Way Up', 'overview': \"Characters from different backgrounds are thrown together when the plane they're travelling on crashes into the Pacific Ocean. A nightmare fight for survival ensues with the air supply running out and dangers creeping in from all sides.\", 'popularity': 1480.125, 'poster_path': '/hu40Uxp9WtpL34jv3zyWLb5zEVY.jpg', 'release_date': '2024-01-18', 'title': 'No Way Up', 'video': False, 'vote_average': 5.776, 'vote_count': 127}, {'adult': False, 'backdrop_path': '/xOMo8BRK7PfcJv9JCnx7s5hj0PX.jpg', 'genre_ids': [28, 12, 878], 'id': 693134, 'original_language': 'en', 'original_title': 'Dune: Part Two', 'overview': 'Follow the mythic journey of Paul Atreides as he unites with Chani and the Fremen while on a path of revenge against the conspirators who destroyed his family. Facing a choice between the love of his life and the fate of the known universe, Paul endeavors to prevent a terrible future only he can foresee.', 'popularity': 1265.804, 'poster_path': '/8b8R8l88Qje9dn9OE8PY05Nxl1X.jpg', 'release_date': '2024-02-27', 'title': 'Dune: Part Two', 'video': False, 'vote_average': 8.45, 'vote_count': 1029}, {'adult': False, 'backdrop_path': '/ekRp1sEA8pnuzVHQkUESTgNSKdW.jpg', 'genre_ids': [878, 28, 80], 'id': 932420, 'original_language': 'en', 'original_title': 'Code 8 Part II', 'overview': 'In a world where superpowered people are heavily policed by robots, an ex-con teams up with a drug lord he despises to protect a teen from a corrupt cop.', 'popularity': 1222.829, 'poster_path': '/hhvMTxlTZtnCOe7YFhod9uz3m37.jpg', 'release_date': '2024-02-27', 'title': 'Code 8 Part II', 'video': False, 'vote_average': 6.619, 'vote_count': 172}, {'adult': False, 'backdrop_path': '/o6e8Y0Q7RZIWi4qcJq4s5OYOVJs.jpg', 'genre_ids': [878, 10749, 35], 'id': 792307, 'original_language': 'en', 'original_title': 'Poor Things', 'overview': 'Brought back to life by an unorthodox scientist, a young woman runs off with a debauched lawyer on a whirlwind adventure across the continents. Free from the prejudices of her times, she grows steadfast in her purpose to stand for equality and liberation.', 'popularity': 976.8, 'poster_path': '/kCGlIMHnOm8JPXq3rXM6c5wMxcT.jpg', 'release_date': '2023-12-07', 'title': 'Poor Things', 'video': False, 'vote_average': 8.0, 'vote_count': 1877}, {'adult': False, 'backdrop_path': '/oBIQDKcqNxKckjugtmzpIIOgoc4.jpg', 'genre_ids': [28, 53, 10752], 'id': 969492, 'original_language': 'en', 'original_title': 'Land of Bad', 'overview': 'When a Delta Force special ops mission goes terribly wrong, Air Force drone pilot Reaper has 48 hours to remedy what has devolved into a wild rescue operation. With no weapons and no communication other than the drone above, the ground mission suddenly becomes a full-scale battle when the team is discovered by the enemy.', 'popularity': 956.514, 'poster_path': '/h27WHO2czaY5twDmV3Wfx5IdqoE.jpg', 'release_date': '2024-01-25', 'title': 'Land of Bad', 'video': False, 'vote_average': 6.961, 'vote_count': 298}, {'adult': False, 'backdrop_path': '/nTPFkLUARmo1bYHfkfdNpRKgEOs.jpg', 'genre_ids': [35, 10749], 'id': 1072790, 'original_language': 'en', 'original_title': 'Anyone But You', 'overview': 'After an amazing first date, Bea and Ben’s fiery attraction turns ice cold — until they find themselves unexpectedly reunited at a destination wedding in Australia. So they do what any two mature adults would do: pretend to be a couple.', 'popularity': 932.844, 'poster_path': '/yRt7MGBElkLQOYRvLTT1b3B1rcp.jpg', 'release_date': '2023-12-21', 'title': 'Anyone But You', 'video': False, 'vote_average': 6.976, 'vote_count': 858}, {'adult': False, 'backdrop_path': '/meyhnvssZOPPjud4F1CjOb4snET.jpg', 'genre_ids': [16, 28, 12, 35, 10751], 'id': 940551, 'original_language': 'en', 'original_title': 'Migration', 'overview': 'After a migrating duck family alights on their pond with thrilling tales of far-flung places, the Mallard family embarks on a family road trip, from New England, to New York City, to tropical Jamaica.', 'popularity': 851.447, 'poster_path': '/ldfCF9RhR40mppkzmftxapaHeTo.jpg', 'release_date': '2023-12-06', 'title': 'Migration', 'video': False, 'vote_average': 7.604, 'vote_count': 867}, {'adult': False, 'backdrop_path': '/fCwwzOziFYs7YRwP4gbrb9qH1xg.jpg', 'genre_ids': [28, 12, 16, 35, 10751], 'id': 1011985, 'original_language': 'en', 'original_title': 'Kung Fu Panda 4', 'overview': 'Po is gearing up to become the spiritual leader of his Valley of Peace, but also needs someone to take his place as Dragon Warrior. As such, he will train a new kung fu practitioner for the spot and will encounter a villain called the Chameleon who conjures villains from the past.', 'popularity': 815.015, 'poster_path': '/kDp1vUBnMpe8ak4rjgl3cLELqjU.jpg', 'release_date': '2024-03-02', 'title': 'Kung Fu Panda 4', 'video': False, 'vote_average': 7.2, 'vote_count': 15}, {'adult': False, 'backdrop_path': '/hIUs8RzKlrzgbWxn2EpWmiTFqCc.jpg', 'genre_ids': [878, 53], 'id': 870404, 'original_language': 'en', 'original_title': 'Meteor', 'overview': 'After a meteor collides into Earth, a lonely rancher and a lost young girl are on the run from vicious mercenaries.', 'popularity': 762.876, 'poster_path': '/tVMddOS5bi3YPVPgTPlEw0TOWoF.jpg', 'release_date': '2021-09-01', 'title': 'Meteor', 'video': False, 'vote_average': 5.546, 'vote_count': 76}, {'adult': False, 'backdrop_path': '/lzWHmYdfeFiMIY4JaMmtR7GEli3.jpg', 'genre_ids': [878, 12], 'id': 438631, 'original_language': 'en', 'original_title': 'Dune', 'overview': \"Paul Atreides, a brilliant and gifted young man born into a great destiny beyond his understanding, must travel to the most dangerous planet in the universe to ensure the future of his family and his people. As malevolent forces explode into conflict over the planet's exclusive supply of the most precious resource in existence-a commodity capable of unlocking humanity's greatest potential-only those who can conquer their fear will survive.\", 'popularity': 738.715, 'poster_path': '/d5NXSklXo0qyIYkgV94XAgMIckC.jpg', 'release_date': '2021-09-15', 'title': 'Dune', 'video': False, 'vote_average': 7.8, 'vote_count': 10557}, {'adult': False, 'backdrop_path': '/xi2pblvQtCnh26SeOYzx1YX3DLT.jpg', 'genre_ids': [80, 28, 53], 'id': 1227816, 'original_language': 'en', 'original_title': 'Red Right Hand', 'overview': \"Cash is trying to live a quiet, honest life in a small Appalachian town. When a vicious crime boss forces him back into her services, he soon learns he's capable of anything -- even killing -- to protect his family and his home.\", 'popularity': 733.638, 'poster_path': '/vfEG79SQIg3p6B8rBLVeIo2BBhb.jpg', 'release_date': '2024-02-22', 'title': 'Red Right Hand', 'video': False, 'vote_average': 7.209, 'vote_count': 43}, {'adult': False, 'backdrop_path': '/td2NcEUn7MPWzpFFjvHLsVQ2pkZ.jpg', 'genre_ids': [28, 53], 'id': 984249, 'original_language': 'en', 'original_title': 'Ruthless', 'overview': 'A high school coach, whose teenage daughter was murdered, takes matters into his own hands by going after the men who kidnap his students for their sex trafficking operation.', 'popularity': 732.307, 'poster_path': '/3hVt5fEuUxNZ5h6ynczcUbq6lpJ.jpg', 'release_date': '2023-12-14', 'title': 'Ruthless', 'video': False, 'vote_average': 6.85, 'vote_count': 20}, {'adult': False, 'backdrop_path': '/gzlprPDmKCS4bUT4BxQZmJfpMX9.jpg', 'genre_ids': [878, 18], 'id': 636706, 'original_language': 'en', 'original_title': 'Spaceman', 'overview': 'During a research mission, an astronaut discovers that his marriage is in trouble. Luckily, he has the help of a mysterious creature hidden in his ship.', 'popularity': 584.143, 'poster_path': '/5hnFFOWEchErNVr0wMLWFEob3q1.jpg', 'release_date': '2024-02-23', 'title': 'Spaceman', 'video': False, 'vote_average': 6.695, 'vote_count': 208}, {'adult': False, 'backdrop_path': '/yyFc8Iclt2jxPmLztbP617xXllT.jpg', 'genre_ids': [35, 10751, 14], 'id': 787699, 'original_language': 'en', 'original_title': 'Wonka', 'overview': 'Willy Wonka – chock-full of ideas and determined to change the world one delectable bite at a time – is proof that the best things in life begin with a dream, and if you’re lucky enough to meet Willy Wonka, anything is possible.', 'popularity': 583.612, 'poster_path': '/qhb1qOilapbapxWQn9jtRCMwXJF.jpg', 'release_date': '2023-12-06', 'title': 'Wonka', 'video': False, 'vote_average': 7.201, 'vote_count': 2390}, {'adult': False, 'backdrop_path': '/3Kzc6V4MWs3RXCmE5DhAYnfWL8F.jpg', 'genre_ids': [16, 35, 878], 'id': 1239251, 'original_language': 'en', 'original_title': 'Megamind vs. the Doom Syndicate', 'overview': \"Megamind's former villain team, The Doom Syndicate, has returned. Our newly crowned blue hero must now keep up evil appearances until he can assemble his friends (Roxanne, Ol' Chum and Keiko) to stop his former evil teammates from launching Metro City to the Moon.\", 'popularity': 569.022, 'poster_path': '/1N7terrMeZPwK5qq31MUD0HQ3IG.jpg', 'release_date': '2024-03-01', 'title': 'Megamind vs. the Doom Syndicate', 'video': False, 'vote_average': 5.824, 'vote_count': 74}, {'adult': False, 'backdrop_path': '/4MCKNAc6AbWjEsM2h9Xc29owo4z.jpg', 'genre_ids': [28, 53, 18], 'id': 866398, 'original_language': 'en', 'original_title': 'The Beekeeper', 'overview': 'One man’s campaign for vengeance takes on national stakes after he is revealed to be a former operative of a powerful and clandestine organization known as Beekeepers.', 'popularity': 556.812, 'poster_path': '/A7EByudX0eOzlkQ2FIbogzyazm2.jpg', 'release_date': '2024-01-10', 'title': 'The Beekeeper', 'video': False, 'vote_average': 7.455, 'vote_count': 1578}, {'adult': False, 'backdrop_path': '/xiAyufulheAWDWuZPVvV3Q9LIXc.jpg', 'genre_ids': [80, 28], 'id': 799710, 'original_language': 'ko', 'original_title': '더 와일드: 야수들의 전쟁', 'overview': 'Woo-chul used to be a successful boxer, but he had to go to prison because his opponent died in the middle of a match. Now that he’s been released, he intends to become a model citizen. Meanwhile, his friend Do-shik will do whatever it takes to get ahead. After choosing different paths, they will be forced to plot against and betray one another.', 'popularity': 531.267, 'poster_path': '/otPBQncqsboG6MyAeGY8Pur7Vac.jpg', 'release_date': '2023-11-15', 'title': 'The Wild', 'video': False, 'vote_average': 5.2, 'vote_count': 6}, {'adult': False, 'backdrop_path': '/feSiISwgEpVzR1v3zv2n2AU4ANJ.jpg', 'genre_ids': [878, 12, 28], 'id': 609681, 'original_language': 'en', 'original_title': 'The Marvels', 'overview': 'Carol Danvers, aka Captain Marvel, has reclaimed her identity from the tyrannical Kree and taken revenge on the Supreme Intelligence. But unintended consequences see Carol shouldering the burden of a destabilized universe. When her duties send her to an anomalous wormhole linked to a Kree revolutionary, her powers become entangled with that of Jersey City super-fan Kamala Khan, aka Ms. Marvel, and Carol’s estranged niece, now S.A.B.E.R. astronaut Captain Monica Rambeau. Together, this unlikely trio must team up and learn to work in concert to save the universe.', 'popularity': 527.379, 'poster_path': '/9GBhzXMFjgcZ3FdR9w3bUMMTps5.jpg', 'release_date': '2023-11-08', 'title': 'The Marvels', 'video': False, 'vote_average': 6.227, 'vote_count': 1990}, {'adult': False, 'backdrop_path': '/sKdDC38FHuPvEsRgIzMEQE6ydol.jpg', 'genre_ids': [53, 27, 18], 'id': 714567, 'original_language': 'ru', 'original_title': '#хочувигру', 'overview': 'The story of a girl who, in an attempt to understand the mysterious suicide of her younger sister, embarks on a dangerous game, hoping to stop the curators of the \"death group\" pushing teenagers to suicide.', 'popularity': 523.649, 'poster_path': '/2TmZ2lgDEYJAFpeUMALRx5NwqK.jpg', 'release_date': '2021-10-07', 'title': '#Blue_Whale', 'video': False, 'vote_average': 6.167, 'vote_count': 9}, {'adult': False, 'backdrop_path': '/s9YTxwaByYeoSqugYjJJtZjMRAG.jpg', 'genre_ids': [28, 27, 35, 53], 'id': 1211483, 'original_language': 'en', 'original_title': 'Skal - Fight for Survival', 'overview': \"My name's Arthur, a huge Internet star who's just hit 3 million subs. While in the midst of throwing an epic party to celebrate, the universe had the balls to bring on the effing apocalypse and cut my night short. What was supposed to be a perfect hangover, has turned into an epic fight for survival.\", 'popularity': 517.058, 'poster_path': '/1On8iF3AsFIbpyfZg1xiGWMAFBn.jpg', 'release_date': '2023-11-24', 'title': 'Skal - Fight for Survival', 'video': False, 'vote_average': 5.56, 'vote_count': 50}], 'total_pages': 42873, 'total_results': 857458}\n"
     ]
    }
   ],
   "source": [
    "print(movies)"
   ]
  },
  {
   "cell_type": "code",
   "execution_count": 9,
   "metadata": {},
   "outputs": [],
   "source": [
    "query = 'Inception'\n",
    "search_results = search_movies(query)"
   ]
  },
  {
   "cell_type": "code",
   "execution_count": 10,
   "metadata": {},
   "outputs": [
    {
     "name": "stdout",
     "output_type": "stream",
     "text": [
      "{'page': 1, 'results': [{'adult': False, 'backdrop_path': '/8ZTVqvKDQ8emSGUEMjsS4yHAwrp.jpg', 'genre_ids': [28, 878, 12], 'id': 27205, 'original_language': 'en', 'original_title': 'Inception', 'overview': 'Cobb, a skilled thief who commits corporate espionage by infiltrating the subconscious of his targets is offered a chance to regain his old life as payment for a task considered to be impossible: \"inception\", the implantation of another person\\'s idea into a target\\'s subconscious.', 'popularity': 86.506, 'poster_path': '/oYuLEt3zVCKq57qu2F8dT7NIa6f.jpg', 'release_date': '2010-07-15', 'title': 'Inception', 'video': False, 'vote_average': 8.367, 'vote_count': 35357}, {'adult': False, 'backdrop_path': '/JeGkRdNsOuMrgwBdtB0hp763MU.jpg', 'genre_ids': [18, 53], 'id': 613092, 'original_language': 'es', 'original_title': 'El crack cero', 'overview': 'Madrid, Spain, 1975; shortly after the end of the Franco dictatorship. Six months after the mysterious death of his lover, a prestigious tailor, a married woman visits the office of the young Germán Areta, a former police officer turned private detective, to request his professional services.', 'popularity': 9.371, 'poster_path': '/kzgPu2CMxBr4YZZxC1Off4cUfR9.jpg', 'release_date': '2019-10-04', 'title': 'The Crack: Inception', 'video': False, 'vote_average': 6.635, 'vote_count': 37}, {'adult': False, 'backdrop_path': None, 'genre_ids': [16, 28, 53, 878], 'id': 64956, 'original_language': 'en', 'original_title': 'Inception: The Cobol Job', 'overview': 'This \"Inception\" prequel unfolds courtesy of a beautiful Motion Comic, and explains how Cobb, Arthur and Nash were enlisted by Cobol Engineering.', 'popularity': 10.49, 'poster_path': '/sNxqwtyHMNQwKWoFYDqcYTui5Ok.jpg', 'release_date': '2010-12-07', 'title': 'Inception: The Cobol Job', 'video': False, 'vote_average': 7.263, 'vote_count': 298}, {'adult': False, 'backdrop_path': None, 'genre_ids': [], 'id': 350632, 'original_language': 'en', 'original_title': 'Nātyārambham', 'overview': 'On certain Adavus: the basic steps in Bharatanatyam. The first part covers Tatta Adavu, Natta Adavu, Visharu Adavu , Tatti Metti Adavu and Teermanam Adavu.', 'popularity': 0.93, 'poster_path': None, 'release_date': '', 'title': 'The Inception of Dramatic Representation', 'video': True, 'vote_average': 5.8, 'vote_count': 3}, {'adult': False, 'backdrop_path': None, 'genre_ids': [35], 'id': 542438, 'original_language': 'en', 'original_title': 'Bikini Inception', 'overview': \"Two flunky Janitors in an Arctic Lab perform unauthorized experiments transporting them to a beach dream world in Malibu California w/50 beautiful young girls and a female Brazilian PhD Student wearing only a bra and panties. A '67 Muscle car races chases horses guns fights surfing, sumo wrestler, wolf monster, underwater scenes tons of gorgeous models. Sexy sci-fi fun.\", 'popularity': 2.623, 'poster_path': '/mNASlEOFX2c9upxaSbgeKFvIr1L.jpg', 'release_date': '2015-05-19', 'title': 'Bikini Inception', 'video': False, 'vote_average': 7.0, 'vote_count': 1}, {'adult': False, 'backdrop_path': None, 'genre_ids': [10402], 'id': 973484, 'original_language': 'en', 'original_title': 'Inception: Music from the Motion Picture', 'overview': 'The Special Features Blu-ray disc contains a lossless DTS-HD MA 5.1 surround mix of the Inception soundtrack.', 'popularity': 1.126, 'poster_path': '/7uM4DyRVAcgagvhZoWrkrqMPbqV.jpg', 'release_date': '2010-12-07', 'title': 'Inception: Music from the Motion Picture', 'video': True, 'vote_average': 6.0, 'vote_count': 1}, {'adult': False, 'backdrop_path': None, 'genre_ids': [], 'id': 250845, 'original_language': 'en', 'original_title': 'WWA The Inception', 'overview': 'The first World Wrestling Allstars pay per view, live from Sydney, Australia! A tournament titled \"7 Deadly Sins\", each round having a stipulation match, the winner will be crowned the first ever WWA Heavyweight Champion! Wrestlers such as Jeff Jarrett, Road Dogg, Jerry Lawler all compete in the tournament, with the WWA Commissioner, Bret Hart not too far away to make sure nothing gets to far out of hand!', 'popularity': 2.024, 'poster_path': None, 'release_date': '2001-10-26', 'title': 'WWA The Inception', 'video': True, 'vote_average': 3.1, 'vote_count': 5}], 'total_pages': 1, 'total_results': 7}\n"
     ]
    }
   ],
   "source": [
    "print(search_results)"
   ]
  }
 ],
 "metadata": {
  "kernelspec": {
   "display_name": "Python 3",
   "language": "python",
   "name": "python3"
  },
  "language_info": {
   "codemirror_mode": {
    "name": "ipython",
    "version": 3
   },
   "file_extension": ".py",
   "mimetype": "text/x-python",
   "name": "python",
   "nbconvert_exporter": "python",
   "pygments_lexer": "ipython3",
   "version": "3.12.0"
  }
 },
 "nbformat": 4,
 "nbformat_minor": 2
}
