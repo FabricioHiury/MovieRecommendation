{
 "cells": [
  {
   "cell_type": "markdown",
   "metadata": {},
   "source": [
    "### Importando as bibliotecas"
   ]
  },
  {
   "cell_type": "code",
   "execution_count": 1,
   "metadata": {},
   "outputs": [],
   "source": [
    "import os\n",
    "import sys\n",
    "sys.path.append('C:/Users/fabri/Documents/GitHub/MovieRecommendation')\n",
    "os.environ['DJANGO_SETTINGS_MODULE'] = 'MovieRecomendation.settings'"
   ]
  },
  {
   "cell_type": "code",
   "execution_count": 2,
   "metadata": {},
   "outputs": [],
   "source": [
    "import django\n",
    "django.setup()"
   ]
  },
  {
   "cell_type": "code",
   "execution_count": 3,
   "metadata": {},
   "outputs": [],
   "source": [
    "#fazendo os imports necessarios\n",
    "from recommendations.utils import get_all_movies, search_movies"
   ]
  },
  {
   "cell_type": "code",
   "execution_count": 4,
   "metadata": {},
   "outputs": [],
   "source": [
    "movies = get_all_movies()"
   ]
  },
  {
   "cell_type": "code",
   "execution_count": 5,
   "metadata": {},
   "outputs": [
    {
     "name": "stdout",
     "output_type": "stream",
     "text": [
      "{'page': 1, 'results': [{'adult': False, 'backdrop_path': '/4woSOUD0equAYzvwhWBHIJDCM88.jpg', 'genre_ids': [28, 27, 53], 'id': 1096197, 'original_language': 'en', 'original_title': 'No Way Up', 'overview': \"Characters from different backgrounds are thrown together when the plane they're travelling on crashes into the Pacific Ocean. A nightmare fight for survival ensues with the air supply running out and dangers creeping in from all sides.\", 'popularity': 2991.229, 'poster_path': '/hu40Uxp9WtpL34jv3zyWLb5zEVY.jpg', 'release_date': '2024-01-18', 'title': 'No Way Up', 'video': False, 'vote_average': 5.921, 'vote_count': 101}, {'adult': False, 'backdrop_path': '/xOMo8BRK7PfcJv9JCnx7s5hj0PX.jpg', 'genre_ids': [28, 12, 878], 'id': 693134, 'original_language': 'en', 'original_title': 'Dune: Part Two', 'overview': 'Follow the mythic journey of Paul Atreides as he unites with Chani and the Fremen while on a path of revenge against the conspirators who destroyed his family. Facing a choice between the love of his life and the fate of the known universe, Paul endeavors to prevent a terrible future only he can foresee.', 'popularity': 1923.174, 'poster_path': '/8b8R8l88Qje9dn9OE8PY05Nxl1X.jpg', 'release_date': '2024-02-27', 'title': 'Dune: Part Two', 'video': False, 'vote_average': 8.49, 'vote_count': 715}, {'adult': False, 'backdrop_path': '/bQS43HSLZzMjZkcHJz4fGc7fNdz.jpg', 'genre_ids': [878, 10749, 35], 'id': 792307, 'original_language': 'en', 'original_title': 'Poor Things', 'overview': 'Brought back to life by an unorthodox scientist, a young woman runs off with a debauched lawyer on a whirlwind adventure across the continents. Free from the prejudices of her times, she grows steadfast in her purpose to stand for equality and liberation.', 'popularity': 1680.818, 'poster_path': '/kCGlIMHnOm8JPXq3rXM6c5wMxcT.jpg', 'release_date': '2023-12-07', 'title': 'Poor Things', 'video': False, 'vote_average': 8.021, 'vote_count': 1739}, {'adult': False, 'backdrop_path': '/oBIQDKcqNxKckjugtmzpIIOgoc4.jpg', 'genre_ids': [28, 53, 10752], 'id': 969492, 'original_language': 'en', 'original_title': 'Land of Bad', 'overview': 'When a Delta Force special ops mission goes terribly wrong, Air Force drone pilot Reaper has 48 hours to remedy what has devolved into a wild rescue operation. With no weapons and no communication other than the drone above, the ground mission suddenly becomes a full-scale battle when the team is discovered by the enemy.', 'popularity': 1658.597, 'poster_path': '/h27WHO2czaY5twDmV3Wfx5IdqoE.jpg', 'release_date': '2024-01-25', 'title': 'Land of Bad', 'video': False, 'vote_average': 6.971, 'vote_count': 272}, {'adult': False, 'backdrop_path': '/meyhnvssZOPPjud4F1CjOb4snET.jpg', 'genre_ids': [16, 28, 12, 35, 10751], 'id': 940551, 'original_language': 'en', 'original_title': 'Migration', 'overview': 'After a migrating duck family alights on their pond with thrilling tales of far-flung places, the Mallard family embarks on a family road trip, from New England, to New York City, to tropical Jamaica.', 'popularity': 1345.241, 'poster_path': '/ldfCF9RhR40mppkzmftxapaHeTo.jpg', 'release_date': '2023-12-06', 'title': 'Migration', 'video': False, 'vote_average': 7.606, 'vote_count': 837}, {'adult': False, 'backdrop_path': '/nTPFkLUARmo1bYHfkfdNpRKgEOs.jpg', 'genre_ids': [35, 10749], 'id': 1072790, 'original_language': 'en', 'original_title': 'Anyone But You', 'overview': 'After an amazing first date, Bea and Ben’s fiery attraction turns ice cold — until they find themselves unexpectedly reunited at a destination wedding in Australia. So they do what any two mature adults would do: pretend to be a couple.', 'popularity': 1255.003, 'poster_path': '/yRt7MGBElkLQOYRvLTT1b3B1rcp.jpg', 'release_date': '2023-12-21', 'title': 'Anyone But You', 'video': False, 'vote_average': 6.957, 'vote_count': 795}, {'adult': False, 'backdrop_path': '/lzWHmYdfeFiMIY4JaMmtR7GEli3.jpg', 'genre_ids': [878, 12], 'id': 438631, 'original_language': 'en', 'original_title': 'Dune', 'overview': \"Paul Atreides, a brilliant and gifted young man born into a great destiny beyond his understanding, must travel to the most dangerous planet in the universe to ensure the future of his family and his people. As malevolent forces explode into conflict over the planet's exclusive supply of the most precious resource in existence-a commodity capable of unlocking humanity's greatest potential-only those who can conquer their fear will survive.\", 'popularity': 1231.499, 'poster_path': '/d5NXSklXo0qyIYkgV94XAgMIckC.jpg', 'release_date': '2021-09-15', 'title': 'Dune', 'video': False, 'vote_average': 7.79, 'vote_count': 10425}, {'adult': False, 'backdrop_path': '/mOQV573Tr0WxI2VVOLKwtfaRGZH.jpg', 'genre_ids': [10749, 35, 12], 'id': 949429, 'original_language': 'th', 'original_title': 'ผจญภัยล่าขุมทรัพย์หมื่นลี้', 'overview': 'Joy, a secretary at a large multinational company, has an online shopping problem, likes to read adventure novels and watch travel and adventure shows. She daydreams about living a life of adventure.', 'popularity': 1158.041, 'poster_path': '/z3SeS4wjKQ3TjHSvRidovGJbHYb.jpg', 'release_date': '2023-12-22', 'title': 'The Adventures', 'video': False, 'vote_average': 6.8, 'vote_count': 6}, {'adult': False, 'backdrop_path': '/yyFc8Iclt2jxPmLztbP617xXllT.jpg', 'genre_ids': [35, 10751, 14], 'id': 787699, 'original_language': 'en', 'original_title': 'Wonka', 'overview': 'Willy Wonka – chock-full of ideas and determined to change the world one delectable bite at a time – is proof that the best things in life begin with a dream, and if you’re lucky enough to meet Willy Wonka, anything is possible.', 'popularity': 970.109, 'poster_path': '/qhb1qOilapbapxWQn9jtRCMwXJF.jpg', 'release_date': '2023-12-06', 'title': 'Wonka', 'video': False, 'vote_average': 7.204, 'vote_count': 2351}, {'adult': False, 'backdrop_path': '/s9YTxwaByYeoSqugYjJJtZjMRAG.jpg', 'genre_ids': [28, 27, 35, 53], 'id': 1211483, 'original_language': 'en', 'original_title': 'Skal - Fight for Survival', 'overview': \"My name's Arthur, a huge Internet star who's just hit 3 million subs. While in the midst of throwing an epic party to celebrate, the universe had the balls to bring on the effing apocalypse and cut my night short. What was supposed to be a perfect hangover, has turned into an epic fight for survival.\", 'popularity': 950.142, 'poster_path': '/1On8iF3AsFIbpyfZg1xiGWMAFBn.jpg', 'release_date': '2023-11-24', 'title': 'Skal - Fight for Survival', 'video': False, 'vote_average': 5.5, 'vote_count': 47}, {'adult': False, 'backdrop_path': '/feSiISwgEpVzR1v3zv2n2AU4ANJ.jpg', 'genre_ids': [878, 12, 28], 'id': 609681, 'original_language': 'en', 'original_title': 'The Marvels', 'overview': 'Carol Danvers, aka Captain Marvel, has reclaimed her identity from the tyrannical Kree and taken revenge on the Supreme Intelligence. But unintended consequences see Carol shouldering the burden of a destabilized universe. When her duties send her to an anomalous wormhole linked to a Kree revolutionary, her powers become entangled with that of Jersey City super-fan Kamala Khan, aka Ms. Marvel, and Carol’s estranged niece, now S.A.B.E.R. astronaut Captain Monica Rambeau. Together, this unlikely trio must team up and learn to work in concert to save the universe.', 'popularity': 902.548, 'poster_path': '/9GBhzXMFjgcZ3FdR9w3bUMMTps5.jpg', 'release_date': '2023-11-08', 'title': 'The Marvels', 'video': False, 'vote_average': 6.243, 'vote_count': 1956}, {'adult': False, 'backdrop_path': '/xi2pblvQtCnh26SeOYzx1YX3DLT.jpg', 'genre_ids': [80, 28, 53], 'id': 1227816, 'original_language': 'en', 'original_title': 'Red Right Hand', 'overview': \"Cash is trying to live a quiet, honest life in a small Appalachian town. When a vicious crime boss forces him back into her services, he soon learns he's capable of anything -- even killing -- to protect his family and his home.\", 'popularity': 814.584, 'poster_path': '/vfEG79SQIg3p6B8rBLVeIo2BBhb.jpg', 'release_date': '2024-02-22', 'title': 'Red Right Hand', 'video': False, 'vote_average': 7.141, 'vote_count': 31}, {'adult': False, 'backdrop_path': '/xStFwzqBWDRyUz3BldisuUY7kjW.jpg', 'genre_ids': [14, 12, 10770], 'id': 885303, 'original_language': 'it', 'original_title': 'I viaggiatori', 'overview': \"Time jump to 1939 with teenager Max and his friends as they try to navigate Mussolini's Rome and find Max's missing brother.\", 'popularity': 807.552, 'poster_path': '/38N7GRJLu7IWyEdil96YobJ5LWM.jpg', 'release_date': '2022-11-21', 'title': 'The Voyagers', 'video': False, 'vote_average': 5.088, 'vote_count': 34}, {'adult': False, 'backdrop_path': '/iWzu3dVJGNfQUkLfK9xpTWoi5mh.jpg', 'genre_ids': [10749, 18, 35], 'id': 1139566, 'original_language': 'es', 'original_title': 'A través de mi ventana 3: A través de tu mirada', 'overview': \"After the events of the summer, Ares and Raquel they don't see a way forward in their relationship and decide to go separate ways. But when they meet again in the winter in Barcelona, the love and desire they feel for each other is undeniable. Will they be able to find a way to get back together?\", 'popularity': 803.243, 'poster_path': '/gwpTgtwVAwmvivBN8rAQABpx9Am.jpg', 'release_date': '2024-02-23', 'title': 'Through My Window 3: Looking at You', 'video': False, 'vote_average': 6.815, 'vote_count': 208}, {'adult': False, 'backdrop_path': '/cIHFTyIf0LjRzjSnwtCAGzwTOKK.jpg', 'genre_ids': [28, 53], 'id': 931642, 'original_language': 'en', 'original_title': 'Lights Out', 'overview': 'A drifting ex-soldier turns underground fighter with the help of a just-released ex-con, pitting him against corrupt cops and hired killers now gunning for him and all those he cares about.', 'popularity': 762.34, 'poster_path': '/pZQ1k20EQ4kkOZ43MBHvPkGEXmf.jpg', 'release_date': '2024-02-16', 'title': 'Lights Out', 'video': False, 'vote_average': 6.8, 'vote_count': 48}, {'adult': False, 'backdrop_path': '/ehumsuIBbgAe1hg343oszCLrAfI.jpg', 'genre_ids': [16, 10751, 14, 12], 'id': 1022796, 'original_language': 'en', 'original_title': 'Wish', 'overview': 'Asha, a sharp-witted idealist, makes a wish so powerful that it is answered by a cosmic force – a little ball of boundless energy called Star. Together, Asha and Star confront a most formidable foe - the ruler of Rosas, King Magnifico - to save her community and prove that when the will of one courageous human connects with the magic of the stars, wondrous things can happen.', 'popularity': 752.713, 'poster_path': '/AcoVfiv1rrWOmAdpnAMnM56ki19.jpg', 'release_date': '2023-11-13', 'title': 'Wish', 'video': False, 'vote_average': 6.6, 'vote_count': 832}, {'adult': False, 'backdrop_path': '/pWsD91G2R1Da3AKM3ymr3UoIfRb.jpg', 'genre_ids': [878, 28], 'id': 933131, 'original_language': 'ko', 'original_title': '황야', 'overview': 'After a deadly earthquake turns Seoul into a lawless badland, a fearless huntsman springs into action to rescue a teenager abducted by a mad doctor.', 'popularity': 689.992, 'poster_path': '/sdI9ufheNPAKnWLl2hnsZKVk0EG.jpg', 'release_date': '2024-01-25', 'title': 'Badland Hunters', 'video': False, 'vote_average': 6.8, 'vote_count': 515}, {'adult': False, 'backdrop_path': '/jkBFGhuJKLH8VurXqVKQ2mxvVYC.jpg', 'genre_ids': [37], 'id': 1079394, 'original_language': 'en', 'original_title': 'The Five', 'overview': 'A scorned woman enlist the help of five strangers to execute a bank robbery. Tensions rise as the men anxiously await her arrival with the money, leaving the crew to wonder if they have been betrayed.', 'popularity': 674.035, 'poster_path': '/xckDPGprPVDpuzhSyo9E7SZJ2wa.jpg', 'release_date': '2023-01-07', 'title': 'The Five', 'video': False, 'vote_average': 6.889, 'vote_count': 18}, {'adult': False, 'backdrop_path': '/ruKNVJFViAyR4jguVboFXTskMOe.jpg', 'genre_ids': [53, 28, 27], 'id': 1028703, 'original_language': 'en', 'original_title': 'The OctoGames', 'overview': '8 contestants compete in 8 deadly, classic children\\'s games. They seek fame beyond their wildest dreams, competing for the chance to take over the YouTube channel of the famous yet elusive masked YouTuber known only as \"JaxPro\".', 'popularity': 661.544, 'poster_path': '/qGz5rffXhegQH5PGUDiObqoOt06.jpg', 'release_date': '2022-10-07', 'title': 'The OctoGames', 'video': False, 'vote_average': 5.808, 'vote_count': 86}, {'adult': False, 'backdrop_path': '/d2d0njdp19FbuOGTW1dbrVMJpTH.jpg', 'genre_ids': [35], 'id': 980137, 'original_language': 'es', 'original_title': 'Papá o Mamá', 'overview': 'Florencia and Vicente are getting divorced. When both are promoted at their jobs, they will do anything in order to do not keep custody of their children.', 'popularity': 654.768, 'poster_path': '/e0ezklncv9ApFVj50FSYJZo08oT.jpg', 'release_date': '2023-11-30', 'title': 'Dad or Mom', 'video': False, 'vote_average': 7.3, 'vote_count': 43}], 'total_pages': 42800, 'total_results': 855981}\n"
     ]
    }
   ],
   "source": [
    "print(movies)"
   ]
  },
  {
   "cell_type": "code",
   "execution_count": 6,
   "metadata": {},
   "outputs": [],
   "source": [
    "query = 'Inception'\n",
    "search_results = search_movies(query)"
   ]
  },
  {
   "cell_type": "code",
   "execution_count": 7,
   "metadata": {},
   "outputs": [
    {
     "name": "stdout",
     "output_type": "stream",
     "text": [
      "{'page': 1, 'results': [{'adult': False, 'backdrop_path': '/8ZTVqvKDQ8emSGUEMjsS4yHAwrp.jpg', 'genre_ids': [28, 878, 12], 'id': 27205, 'original_language': 'en', 'original_title': 'Inception', 'overview': 'Cobb, a skilled thief who commits corporate espionage by infiltrating the subconscious of his targets is offered a chance to regain his old life as payment for a task considered to be impossible: \"inception\", the implantation of another person\\'s idea into a target\\'s subconscious.', 'popularity': 111.555, 'poster_path': '/oYuLEt3zVCKq57qu2F8dT7NIa6f.jpg', 'release_date': '2010-07-15', 'title': 'Inception', 'video': False, 'vote_average': 8.367, 'vote_count': 35343}, {'adult': False, 'backdrop_path': '/JeGkRdNsOuMrgwBdtB0hp763MU.jpg', 'genre_ids': [18, 53], 'id': 613092, 'original_language': 'es', 'original_title': 'El crack cero', 'overview': 'Madrid, Spain, 1975; shortly after the end of the Franco dictatorship. Six months after the mysterious death of his lover, a prestigious tailor, a married woman visits the office of the young Germán Areta, a former police officer turned private detective, to request his professional services.', 'popularity': 8.277, 'poster_path': '/kzgPu2CMxBr4YZZxC1Off4cUfR9.jpg', 'release_date': '2019-10-04', 'title': 'The Crack: Inception', 'video': False, 'vote_average': 6.635, 'vote_count': 37}, {'adult': False, 'backdrop_path': None, 'genre_ids': [16, 28, 53, 878], 'id': 64956, 'original_language': 'en', 'original_title': 'Inception: The Cobol Job', 'overview': 'This \"Inception\" prequel unfolds courtesy of a beautiful Motion Comic, and explains how Cobb, Arthur and Nash were enlisted by Cobol Engineering.', 'popularity': 14.358, 'poster_path': '/sNxqwtyHMNQwKWoFYDqcYTui5Ok.jpg', 'release_date': '2010-12-07', 'title': 'Inception: The Cobol Job', 'video': False, 'vote_average': 7.263, 'vote_count': 298}, {'adult': False, 'backdrop_path': None, 'genre_ids': [], 'id': 350632, 'original_language': 'en', 'original_title': 'Nātyārambham', 'overview': 'On certain Adavus: the basic steps in Bharatanatyam. The first part covers Tatta Adavu, Natta Adavu, Visharu Adavu , Tatti Metti Adavu and Teermanam Adavu.', 'popularity': 0.6, 'poster_path': None, 'release_date': '', 'title': 'The Inception of Dramatic Representation', 'video': True, 'vote_average': 5.8, 'vote_count': 3}, {'adult': False, 'backdrop_path': None, 'genre_ids': [35], 'id': 542438, 'original_language': 'en', 'original_title': 'Bikini Inception', 'overview': \"Two flunky Janitors in an Arctic Lab perform unauthorized experiments transporting them to a beach dream world in Malibu California w/50 beautiful young girls and a female Brazilian PhD Student wearing only a bra and panties. A '67 Muscle car races chases horses guns fights surfing, sumo wrestler, wolf monster, underwater scenes tons of gorgeous models. Sexy sci-fi fun.\", 'popularity': 4.333, 'poster_path': '/mNASlEOFX2c9upxaSbgeKFvIr1L.jpg', 'release_date': '2015-05-19', 'title': 'Bikini Inception', 'video': False, 'vote_average': 7.0, 'vote_count': 1}, {'adult': False, 'backdrop_path': None, 'genre_ids': [10402], 'id': 973484, 'original_language': 'en', 'original_title': 'Inception: Music from the Motion Picture', 'overview': 'The Special Features Blu-ray disc contains a lossless DTS-HD MA 5.1 surround mix of the Inception soundtrack.', 'popularity': 1.4, 'poster_path': '/7uM4DyRVAcgagvhZoWrkrqMPbqV.jpg', 'release_date': '2010-12-07', 'title': 'Inception: Music from the Motion Picture', 'video': True, 'vote_average': 6.0, 'vote_count': 1}, {'adult': False, 'backdrop_path': None, 'genre_ids': [], 'id': 250845, 'original_language': 'en', 'original_title': 'WWA The Inception', 'overview': 'The first World Wrestling Allstars pay per view, live from Sydney, Australia! A tournament titled \"7 Deadly Sins\", each round having a stipulation match, the winner will be crowned the first ever WWA Heavyweight Champion! Wrestlers such as Jeff Jarrett, Road Dogg, Jerry Lawler all compete in the tournament, with the WWA Commissioner, Bret Hart not too far away to make sure nothing gets to far out of hand!', 'popularity': 4.108, 'poster_path': None, 'release_date': '2001-10-26', 'title': 'WWA The Inception', 'video': True, 'vote_average': 3.1, 'vote_count': 5}], 'total_pages': 1, 'total_results': 7}\n"
     ]
    }
   ],
   "source": [
    "print(search_results)"
   ]
  }
 ],
 "metadata": {
  "kernelspec": {
   "display_name": "Python 3",
   "language": "python",
   "name": "python3"
  },
  "language_info": {
   "codemirror_mode": {
    "name": "ipython",
    "version": 3
   },
   "file_extension": ".py",
   "mimetype": "text/x-python",
   "name": "python",
   "nbconvert_exporter": "python",
   "pygments_lexer": "ipython3",
   "version": "3.12.0"
  }
 },
 "nbformat": 4,
 "nbformat_minor": 2
}
