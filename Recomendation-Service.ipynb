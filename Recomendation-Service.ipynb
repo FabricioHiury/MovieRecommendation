{
 "cells": [
  {
   "cell_type": "markdown",
   "metadata": {},
   "source": [
    "### Importando as bibliotecas"
   ]
  },
  {
   "cell_type": "code",
   "execution_count": 227,
   "metadata": {},
   "outputs": [],
   "source": [
    "import django\n",
    "import os\n",
    "os.environ.setdefault(\"DJANGO_SETTINGS_MODULE\", \"MovieRecomendation.settings\")\n",
    "django.setup()"
   ]
  },
  {
   "cell_type": "code",
   "execution_count": 228,
   "metadata": {},
   "outputs": [],
   "source": [
    "from recommendations.utils import get_all_movies, search_movies, search_movie_by_id, get_genre_mapping"
   ]
  },
  {
   "cell_type": "code",
   "execution_count": 229,
   "metadata": {},
   "outputs": [],
   "source": [
    "movies = get_all_movies()['results']"
   ]
  },
  {
   "cell_type": "code",
   "execution_count": 230,
   "metadata": {},
   "outputs": [
    {
     "name": "stdout",
     "output_type": "stream",
     "text": [
      "[{'adult': False, 'backdrop_path': '/1XDDXPXGiI8id7MrUxK36ke7gkX.jpg', 'genre_ids': [28, 12, 16, 35, 10751], 'id': 1011985, 'original_language': 'en', 'original_title': 'Kung Fu Panda 4', 'overview': 'Po is gearing up to become the spiritual leader of his Valley of Peace, but also needs someone to take his place as Dragon Warrior. As such, he will train a new kung fu practitioner for the spot and will encounter a villain called the Chameleon who conjures villains from the past.', 'popularity': 5768.648, 'poster_path': '/kDp1vUBnMpe8ak4rjgl3cLELqjU.jpg', 'release_date': '2024-03-02', 'title': 'Kung Fu Panda 4', 'video': False, 'vote_average': 7.002, 'vote_count': 319}, {'adult': False, 'backdrop_path': '/zAepSrO99owYwQqi0QG2AS0dHXw.jpg', 'genre_ids': [28, 14], 'id': 634492, 'original_language': 'en', 'original_title': 'Madame Web', 'overview': 'Forced to confront revelations about her past, paramedic Cassandra Webb forges a relationship with three young women destined for powerful futures...if they can all survive a deadly present.', 'popularity': 3250.262, 'poster_path': '/rULWuutDcN5NvtiZi4FRPzRYWSh.jpg', 'release_date': '2024-02-14', 'title': 'Madame Web', 'video': False, 'vote_average': 5.609, 'vote_count': 762}, {'adult': False, 'backdrop_path': '/deLWkOLZmBNkm8p16igfapQyqeq.jpg', 'genre_ids': [14, 28, 12], 'id': 763215, 'original_language': 'en', 'original_title': 'Damsel', 'overview': \"A young woman's marriage to a charming prince turns into a fierce fight for survival when she's offered up as a sacrifice to a fire-breathing dragon.\", 'popularity': 1948.841, 'poster_path': '/sMp34cNKjIb18UBOCoAv4DpCxwY.jpg', 'release_date': '2024-03-08', 'title': 'Damsel', 'video': False, 'vote_average': 7.201, 'vote_count': 1170}, {'adult': False, 'backdrop_path': '/oFAukXiMPrwLpbulGmB5suEZlrm.jpg', 'genre_ids': [28, 12, 878, 14, 18], 'id': 624091, 'original_language': 'id', 'original_title': 'Sri Asih', 'overview': 'Alana discover the truth about her origin: she’s not an ordinary human being. She may be the gift for humanity and become its protector as Sri Asih. Or a destruction, if she can’t control her anger.', 'popularity': 1551.118, 'poster_path': '/wShcJSKMFg1Dy1yq7kEZuay6pLS.jpg', 'release_date': '2022-11-17', 'title': 'Sri Asih', 'video': False, 'vote_average': 6.449, 'vote_count': 39}, {'adult': False, 'backdrop_path': '/mDeUmPe4MF35WWlAqj4QFX5UauJ.jpg', 'genre_ids': [28, 27, 53], 'id': 1096197, 'original_language': 'pt', 'original_title': 'No Way Up', 'overview': \"Characters from different backgrounds are thrown together when the plane they're travelling on crashes into the Pacific Ocean. A nightmare fight for survival ensues with the air supply running out and dangers creeping in from all sides.\", 'popularity': 1388.474, 'poster_path': '/hu40Uxp9WtpL34jv3zyWLb5zEVY.jpg', 'release_date': '2024-01-18', 'title': 'No Way Up', 'video': False, 'vote_average': 6.135, 'vote_count': 275}, {'adult': False, 'backdrop_path': '/u0P5drNyTrZoGyJONPcZGbv1mNP.jpg', 'genre_ids': [28, 53], 'id': 1124127, 'original_language': 'en', 'original_title': 'Air Force One Down', 'overview': \"On her first assignment aboard Air Force One, a rookie Secret Service agent faces the ultimate test when terrorists hijack the plane, intent on derailing a pivotal energy deal. With the President's life on the line and a global crisis at stake, her bravery and skills are pushed to the limit in a relentless battle that could change the course of history.\", 'popularity': 1188.731, 'poster_path': '/nKPoSD4pZ3s3CJ9g3cqWRcQ41TC.jpg', 'release_date': '2024-02-09', 'title': 'Air Force One Down', 'video': False, 'vote_average': 6.159, 'vote_count': 41}, {'adult': False, 'backdrop_path': '/xvk5AhfhgQcTuaCQyq3XqAnhEma.jpg', 'genre_ids': [28, 12, 35], 'id': 848538, 'original_language': 'en', 'original_title': 'Argylle', 'overview': \"When the plots of reclusive author Elly Conway's fictional espionage novels begin to mirror the covert actions of a real-life spy organization, quiet evenings at home become a thing of the past. Accompanied by her cat Alfie and Aiden, a cat-allergic spy, Elly races across the world to stay one step ahead of the killers as the line between Conway's fictional world and her real one begins to blur.\", 'popularity': 1109.693, 'poster_path': '/95VlSEfLMqeX36UVcHJuNlWEpwf.jpg', 'release_date': '2024-01-31', 'title': 'Argylle', 'video': False, 'vote_average': 6.17, 'vote_count': 697}, {'adult': False, 'backdrop_path': '/meyhnvssZOPPjud4F1CjOb4snET.jpg', 'genre_ids': [16, 28, 12, 35, 10751], 'id': 940551, 'original_language': 'en', 'original_title': 'Migration', 'overview': 'After a migrating duck family alights on their pond with thrilling tales of far-flung places, the Mallard family embarks on a family road trip, from New England, to New York City, to tropical Jamaica.', 'popularity': 1076.151, 'poster_path': '/ldfCF9RhR40mppkzmftxapaHeTo.jpg', 'release_date': '2023-12-06', 'title': 'Migration', 'video': False, 'vote_average': 7.5, 'vote_count': 996}, {'adult': False, 'backdrop_path': '/qVrS8bu1B7G1tgLTlCZQi4CFsTh.jpg', 'genre_ids': [28, 53, 10752], 'id': 969492, 'original_language': 'en', 'original_title': 'Land of Bad', 'overview': 'When a Delta Force special ops mission goes terribly wrong, Air Force drone pilot Reaper has 48 hours to remedy what has devolved into a wild rescue operation. With no weapons and no communication other than the drone above, the ground mission suddenly becomes a full-scale battle when the team is discovered by the enemy.', 'popularity': 1017.234, 'poster_path': '/h3jYanWMEJq6JJsCopy1h7cT2Hs.jpg', 'release_date': '2024-01-25', 'title': 'Land of Bad', 'video': False, 'vote_average': 7.112, 'vote_count': 417}, {'adult': False, 'backdrop_path': '/47olX0FCvUCfAqlp8cK0O5fKLav.jpg', 'genre_ids': [16, 35, 878], 'id': 1239251, 'original_language': 'en', 'original_title': 'Megamind vs. the Doom Syndicate', 'overview': \"Megamind's former villain team, The Doom Syndicate, has returned. Our newly crowned blue hero must now keep up evil appearances until he can assemble his friends (Roxanne, Ol' Chum and Keiko) to stop his former evil teammates from launching Metro City to the Moon.\", 'popularity': 982.696, 'poster_path': '/yRZfiG1QpRkBc7fAmxfcR7Md5EC.jpg', 'release_date': '2024-03-01', 'title': 'Megamind vs. the Doom Syndicate', 'video': False, 'vote_average': 5.644, 'vote_count': 135}, {'adult': False, 'backdrop_path': '/mEoIDEiePnYj178H9znzbl9zvky.jpg', 'genre_ids': [28], 'id': 1006540, 'original_language': 'en', 'original_title': 'Bullet Train Down', 'overview': \"On its maiden run, the world's fastest bullet train is rigged with a bomb that will explode if it dips below 200 mph.\", 'popularity': 955.618, 'poster_path': '/5a7cocgyVuFjYV71neDIGVzD6Yq.jpg', 'release_date': '2022-08-01', 'title': 'Bullet Train Down', 'video': False, 'vote_average': 5.206, 'vote_count': 17}, {'adult': False, 'backdrop_path': '/ekRp1sEA8pnuzVHQkUESTgNSKdW.jpg', 'genre_ids': [878, 28, 80], 'id': 932420, 'original_language': 'en', 'original_title': 'Code 8 Part II', 'overview': 'In a world where superpowered people are heavily policed by robots, an ex-con teams up with a drug lord he despises to protect a teen from a corrupt cop.', 'popularity': 937.358, 'poster_path': '/hhvMTxlTZtnCOe7YFhod9uz3m37.jpg', 'release_date': '2024-02-27', 'title': 'Code 8 Part II', 'video': False, 'vote_average': 6.506, 'vote_count': 346}, {'adult': False, 'backdrop_path': '/87IVlclAfWL6mdicU1DDuxdwXwe.jpg', 'genre_ids': [878, 12], 'id': 693134, 'original_language': 'en', 'original_title': 'Dune: Part Two', 'overview': 'Follow the mythic journey of Paul Atreides as he unites with Chani and the Fremen while on a path of revenge against the conspirators who destroyed his family. Facing a choice between the love of his life and the fate of the known universe, Paul endeavors to prevent a terrible future only he can foresee.', 'popularity': 927.936, 'poster_path': '/8b8R8l88Qje9dn9OE8PY05Nxl1X.jpg', 'release_date': '2024-02-27', 'title': 'Dune: Part Two', 'video': False, 'vote_average': 8.391, 'vote_count': 2119}, {'adult': False, 'backdrop_path': '/4Ep2KivIBUZbkS7kHjW7Qywnhhj.jpg', 'genre_ids': [28], 'id': 1049948, 'original_language': 'en', 'original_title': 'Vikings: Battle of Heirs', 'overview': \"A young Viking must come to terms with the realization that he may be the King's son, who was switched at birth, but not before others try to take his rightful place.\", 'popularity': 871.897, 'poster_path': '/87goLbbqrJqAxqDS5cBsik1zKT.jpg', 'release_date': '2023-04-28', 'title': 'Vikings: Battle of Heirs', 'video': False, 'vote_average': 7.857, 'vote_count': 7}, {'adult': False, 'backdrop_path': '/cu5Qk2QHxOyyMrD3Bq93DxgmJer.jpg', 'genre_ids': [28, 80], 'id': 1046090, 'original_language': 'zh', 'original_title': '周處除三害', 'overview': 'The arrogant, third most-wanted criminal in Taiwan, decides to get rid of the top two competitors and crowns himself the most-wanted criminal before dying.', 'popularity': 862.11, 'poster_path': '/7IJ7F8tX7IAkpUdaGovOBJqORnJ.jpg', 'release_date': '2023-10-06', 'title': 'The Pig, the Snake and the Pigeon', 'video': False, 'vote_average': 7.514, 'vote_count': 104}, {'adult': False, 'backdrop_path': '/xRd1eJIDe7JHO5u4gtEYwGn5wtf.jpg', 'genre_ids': [28, 878, 12], 'id': 823464, 'original_language': 'en', 'original_title': 'Godzilla x Kong: The New Empire', 'overview': 'Following their explosive showdown, Godzilla and Kong must reunite against a colossal undiscovered threat hidden within our world, challenging their very existence – and our own.', 'popularity': 844.506, 'poster_path': '/tMefBSflR6PGQLv7WvFPpKLZkyk.jpg', 'release_date': '2024-03-27', 'title': 'Godzilla x Kong: The New Empire', 'video': False, 'vote_average': 8.278, 'vote_count': 18}, {'adult': False, 'backdrop_path': '/bQS43HSLZzMjZkcHJz4fGc7fNdz.jpg', 'genre_ids': [878, 10749, 35], 'id': 792307, 'original_language': 'en', 'original_title': 'Poor Things', 'overview': 'Brought back to life by an unorthodox scientist, a young woman runs off with a debauched lawyer on a whirlwind adventure across the continents. Free from the prejudices of her times, she grows steadfast in her purpose to stand for equality and liberation.', 'popularity': 819.035, 'poster_path': '/kCGlIMHnOm8JPXq3rXM6c5wMxcT.jpg', 'release_date': '2023-12-07', 'title': 'Poor Things', 'video': False, 'vote_average': 7.85, 'vote_count': 2685}, {'adult': False, 'backdrop_path': '/1ZSKH5GGFlM8M32K34GMdaNS2Ew.jpg', 'genre_ids': [10402, 36, 18], 'id': 802219, 'original_language': 'en', 'original_title': 'Bob Marley: One Love', 'overview': 'Jamaican singer-songwriter Bob Marley overcomes adversity to become the most famous reggae musician in the world.', 'popularity': 799.645, 'poster_path': '/4eWeXswkAUIvdVWFvPrUFu2TxuI.jpg', 'release_date': '2024-02-14', 'title': 'Bob Marley: One Love', 'video': False, 'vote_average': 7.033, 'vote_count': 375}, {'adult': False, 'backdrop_path': '/nTPFkLUARmo1bYHfkfdNpRKgEOs.jpg', 'genre_ids': [10749, 35], 'id': 1072790, 'original_language': 'en', 'original_title': 'Anyone But You', 'overview': 'After an amazing first date, Bea and Ben’s fiery attraction turns ice cold — until they find themselves unexpectedly reunited at a destination wedding in Australia. So they do what any two mature adults would do: pretend to be a couple.', 'popularity': 782.059, 'poster_path': '/5qHoazZiaLe7oFBok7XlUhg96f2.jpg', 'release_date': '2023-12-21', 'title': 'Anyone But You', 'video': False, 'vote_average': 7.092, 'vote_count': 1121}, {'adult': False, 'backdrop_path': '/yyFc8Iclt2jxPmLztbP617xXllT.jpg', 'genre_ids': [35, 10751, 14], 'id': 787699, 'original_language': 'en', 'original_title': 'Wonka', 'overview': 'Willy Wonka – chock-full of ideas and determined to change the world one delectable bite at a time – is proof that the best things in life begin with a dream, and if you’re lucky enough to meet Willy Wonka, anything is possible.', 'popularity': 745.613, 'poster_path': '/qhb1qOilapbapxWQn9jtRCMwXJF.jpg', 'release_date': '2023-12-06', 'title': 'Wonka', 'video': False, 'vote_average': 7.21, 'vote_count': 2641}]\n"
     ]
    }
   ],
   "source": [
    "print(movies)"
   ]
  },
  {
   "cell_type": "code",
   "execution_count": 231,
   "metadata": {},
   "outputs": [],
   "source": [
    "query = 'Inception'\n",
    "search_results = search_movies(query)"
   ]
  },
  {
   "cell_type": "code",
   "execution_count": 232,
   "metadata": {},
   "outputs": [
    {
     "name": "stdout",
     "output_type": "stream",
     "text": [
      "{'page': 1, 'results': [{'adult': False, 'backdrop_path': '/8ZTVqvKDQ8emSGUEMjsS4yHAwrp.jpg', 'genre_ids': [28, 878, 12], 'id': 27205, 'original_language': 'en', 'original_title': 'Inception', 'overview': 'Cobb, a skilled thief who commits corporate espionage by infiltrating the subconscious of his targets is offered a chance to regain his old life as payment for a task considered to be impossible: \"inception\", the implantation of another person\\'s idea into a target\\'s subconscious.', 'popularity': 135.654, 'poster_path': '/edv5CZvWj09upOsy2Y6IwDhK8bt.jpg', 'release_date': '2010-07-15', 'title': 'Inception', 'video': False, 'vote_average': 8.367, 'vote_count': 35441}, {'adult': False, 'backdrop_path': '/JeGkRdNsOuMrgwBdtB0hp763MU.jpg', 'genre_ids': [18, 53], 'id': 613092, 'original_language': 'es', 'original_title': 'El crack cero', 'overview': 'Madrid, Spain, 1975; shortly after the end of the Franco dictatorship. Six months after the mysterious death of his lover, a prestigious tailor, a married woman visits the office of the young Germán Areta, a former police officer turned private detective, to request his professional services.', 'popularity': 6.47, 'poster_path': '/kzgPu2CMxBr4YZZxC1Off4cUfR9.jpg', 'release_date': '2019-10-04', 'title': 'The Crack: Inception', 'video': False, 'vote_average': 6.635, 'vote_count': 37}, {'adult': False, 'backdrop_path': None, 'genre_ids': [16, 28, 53, 878], 'id': 64956, 'original_language': 'en', 'original_title': 'Inception: The Cobol Job', 'overview': 'This \"Inception\" prequel unfolds courtesy of a beautiful Motion Comic, and explains how Cobb, Arthur and Nash were enlisted by Cobol Engineering.', 'popularity': 9.779, 'poster_path': '/sNxqwtyHMNQwKWoFYDqcYTui5Ok.jpg', 'release_date': '2010-12-07', 'title': 'Inception: The Cobol Job', 'video': False, 'vote_average': 7.263, 'vote_count': 298}, {'adult': False, 'backdrop_path': None, 'genre_ids': [], 'id': 350632, 'original_language': 'en', 'original_title': 'Nātyārambham', 'overview': 'On certain Adavus: the basic steps in Bharatanatyam. The first part covers Tatta Adavu, Natta Adavu, Visharu Adavu , Tatti Metti Adavu and Teermanam Adavu.', 'popularity': 0.68, 'poster_path': None, 'release_date': '', 'title': 'The Inception of Dramatic Representation', 'video': True, 'vote_average': 5.8, 'vote_count': 3}, {'adult': False, 'backdrop_path': None, 'genre_ids': [35], 'id': 542438, 'original_language': 'en', 'original_title': 'Bikini Inception', 'overview': \"Two flunky Janitors in an Arctic Lab perform unauthorized experiments transporting them to a beach dream world in Malibu California w/50 beautiful young girls and a female Brazilian PhD Student wearing only a bra and panties. A '67 Muscle car races chases horses guns fights surfing, sumo wrestler, wolf monster, underwater scenes tons of gorgeous models. Sexy sci-fi fun.\", 'popularity': 5.984, 'poster_path': '/mNASlEOFX2c9upxaSbgeKFvIr1L.jpg', 'release_date': '2015-05-19', 'title': 'Bikini Inception', 'video': False, 'vote_average': 7.0, 'vote_count': 1}, {'adult': False, 'backdrop_path': None, 'genre_ids': [10402], 'id': 973484, 'original_language': 'en', 'original_title': 'Inception: Music from the Motion Picture', 'overview': 'The Special Features Blu-ray disc contains a lossless DTS-HD MA 5.1 surround mix of the Inception soundtrack.', 'popularity': 1.133, 'poster_path': '/7uM4DyRVAcgagvhZoWrkrqMPbqV.jpg', 'release_date': '2010-12-07', 'title': 'Inception: Music from the Motion Picture', 'video': True, 'vote_average': 6.0, 'vote_count': 1}, {'adult': False, 'backdrop_path': None, 'genre_ids': [], 'id': 250845, 'original_language': 'en', 'original_title': 'WWA The Inception', 'overview': 'The first World Wrestling Allstars pay per view, live from Sydney, Australia! A tournament titled \"7 Deadly Sins\", each round having a stipulation match, the winner will be crowned the first ever WWA Heavyweight Champion! Wrestlers such as Jeff Jarrett, Road Dogg, Jerry Lawler all compete in the tournament, with the WWA Commissioner, Bret Hart not too far away to make sure nothing gets to far out of hand!', 'popularity': 2.368, 'poster_path': None, 'release_date': '2001-10-26', 'title': 'WWA The Inception', 'video': True, 'vote_average': 3.1, 'vote_count': 5}], 'total_pages': 1, 'total_results': 7}\n"
     ]
    }
   ],
   "source": [
    "print(search_results)"
   ]
  },
  {
   "cell_type": "code",
   "execution_count": 233,
   "metadata": {},
   "outputs": [],
   "source": [
    "movie_id = 27205\n",
    "search_result_id = search_movie_by_id(movie_id)"
   ]
  },
  {
   "cell_type": "code",
   "execution_count": 234,
   "metadata": {},
   "outputs": [
    {
     "name": "stdout",
     "output_type": "stream",
     "text": [
      "{'adult': False, 'backdrop_path': '/8ZTVqvKDQ8emSGUEMjsS4yHAwrp.jpg', 'belongs_to_collection': None, 'budget': 160000000, 'genres': [{'id': 28, 'name': 'Action'}, {'id': 878, 'name': 'Science Fiction'}, {'id': 12, 'name': 'Adventure'}], 'homepage': 'https://www.warnerbros.com/movies/inception', 'id': 27205, 'imdb_id': 'tt1375666', 'original_language': 'en', 'original_title': 'Inception', 'overview': 'Cobb, a skilled thief who commits corporate espionage by infiltrating the subconscious of his targets is offered a chance to regain his old life as payment for a task considered to be impossible: \"inception\", the implantation of another person\\'s idea into a target\\'s subconscious.', 'popularity': 135.654, 'poster_path': '/edv5CZvWj09upOsy2Y6IwDhK8bt.jpg', 'production_companies': [{'id': 923, 'logo_path': '/8M99Dkt23MjQMTTWukq4m5XsEuo.png', 'name': 'Legendary Pictures', 'origin_country': 'US'}, {'id': 9996, 'logo_path': '/3tvBqYsBhxWeHlu62SIJ1el93O7.png', 'name': 'Syncopy', 'origin_country': 'GB'}, {'id': 174, 'logo_path': '/zhD3hhtKB5qyv7ZeL4uLpNxgMVU.png', 'name': 'Warner Bros. Pictures', 'origin_country': 'US'}], 'production_countries': [{'iso_3166_1': 'GB', 'name': 'United Kingdom'}, {'iso_3166_1': 'US', 'name': 'United States of America'}], 'release_date': '2010-07-15', 'revenue': 825532764, 'runtime': 148, 'spoken_languages': [{'english_name': 'English', 'iso_639_1': 'en', 'name': 'English'}, {'english_name': 'French', 'iso_639_1': 'fr', 'name': 'Français'}, {'english_name': 'Japanese', 'iso_639_1': 'ja', 'name': '日本語'}, {'english_name': 'Swahili', 'iso_639_1': 'sw', 'name': 'Kiswahili'}], 'status': 'Released', 'tagline': 'Your mind is the scene of the crime.', 'title': 'Inception', 'video': False, 'vote_average': 8.4, 'vote_count': 35440}\n"
     ]
    }
   ],
   "source": [
    "print(search_result_id)"
   ]
  },
  {
   "cell_type": "code",
   "execution_count": 235,
   "metadata": {},
   "outputs": [],
   "source": [
    "import numpy as np\n",
    "from sklearn.feature_extraction.text import TfidfVectorizer\n",
    "from sklearn.neighbors import NearestNeighbors\n",
    "from sklearn.preprocessing import MultiLabelBinarizer, StandardScaler\n",
    "from sklearn.metrics.pairwise import cosine_similarity"
   ]
  },
  {
   "cell_type": "code",
   "execution_count": 236,
   "metadata": {},
   "outputs": [],
   "source": [
    "genres = [movie['genre_ids'] for movie in search_results['results']]\n",
    "votes = [[movie['vote_average']] for movie in search_results['results']]\n",
    "\n",
    "mlb = MultiLabelBinarizer()\n",
    "genres_encoded = mlb.fit_transform(genres)\n",
    "\n",
    "scaler = StandardScaler()\n",
    "votes_scaled = scaler.fit_transform(votes)\n",
    "\n",
    "features = np.hstack((genres_encoded, votes_scaled))"
   ]
  },
  {
   "cell_type": "code",
   "execution_count": 237,
   "metadata": {},
   "outputs": [
    {
     "name": "stdout",
     "output_type": "stream",
     "text": [
      "['Inception', 'Inception: The Cobol Job', 'Bikini Inception', 'The Crack: Inception', 'Inception: Music from the Motion Picture']\n"
     ]
    }
   ],
   "source": [
    "model_knn = NearestNeighbors(metric='cosine', algorithm='brute', n_neighbors=5, n_jobs=-1)\n",
    "model_knn.fit(features)\n",
    "distances, indices = model_knn.kneighbors([features[0]], n_neighbors=5)\n",
    "similar_movies_titles = [search_results['results'][i]['title'] for i in indices.flatten()]\n",
    "print(similar_movies_titles)"
   ]
  },
  {
   "cell_type": "code",
   "execution_count": 238,
   "metadata": {},
   "outputs": [
    {
     "name": "stdout",
     "output_type": "stream",
     "text": [
      "{28: 'Action', 12: 'Adventure', 16: 'Animation', 35: 'Comedy', 80: 'Crime', 99: 'Documentary', 18: 'Drama', 10751: 'Family', 14: 'Fantasy', 36: 'History', 27: 'Horror', 10402: 'Music', 9648: 'Mystery', 10749: 'Romance', 878: 'Science Fiction', 10770: 'TV Movie', 53: 'Thriller', 10752: 'War', 37: 'Western'}\n"
     ]
    }
   ],
   "source": [
    "genre_mapping = get_genre_mapping()\n",
    "print(genre_mapping)\n",
    "unique_genre_names = sorted(set(genre_mapping[genre_id] for movie in movies for genre_id in movie['genre_ids'] if genre_id in genre_mapping))"
   ]
  },
  {
   "cell_type": "code",
   "execution_count": 239,
   "metadata": {},
   "outputs": [],
   "source": [
    "def genres_vector(movie):\n",
    "    vector = np.zeros(len(unique_genre_names))\n",
    "    genre_ids = []\n",
    "    if 'genres' in movie:\n",
    "        genre_ids = [genre['id'] for genre in movie['genres']]\n",
    "    elif 'genre_ids' in movie:\n",
    "        genre_ids = movie['genre_ids']\n",
    "    \n",
    "    for genre_id in genre_ids:\n",
    "        if genre_id in genre_mapping:\n",
    "            genre_name = genre_mapping[genre_id]\n",
    "            genre_index = unique_genre_names.index(genre_name)\n",
    "            vector[genre_index] = 1\n",
    "    return vector"
   ]
  },
  {
   "cell_type": "code",
   "execution_count": 240,
   "metadata": {},
   "outputs": [],
   "source": [
    "tfidf = TfidfVectorizer(stop_words='english')\n",
    "overviews = tfidf.fit_transform([movie['overview'] for movie in movies])"
   ]
  },
  {
   "cell_type": "code",
   "execution_count": 241,
   "metadata": {},
   "outputs": [],
   "source": [
    "def prepare_movie_data(movies, vectorizer=None):\n",
    "    if vectorizer is None:\n",
    "        vectorizer = TfidfVectorizer(stop_words='english')\n",
    "        overviews = [movie.get('overview', '') for movie in movies]  \n",
    "        tfidf_matrix = vectorizer.fit_transform(overviews)\n",
    "    else:\n",
    "        tfidf_matrix = vectorizer.transform([movies.get('overview', '')])\n",
    "    return tfidf_matrix, vectorizer"
   ]
  },
  {
   "cell_type": "code",
   "execution_count": 242,
   "metadata": {},
   "outputs": [],
   "source": [
    "movies = get_all_movies()['results']  \n",
    "\n",
    "all_movies_data, vectorizer = prepare_movie_data(movies)\n",
    "\n",
    "movie_id = 27205\n",
    "target_movie = search_movie_by_id(movie_id)"
   ]
  },
  {
   "cell_type": "code",
   "execution_count": 243,
   "metadata": {},
   "outputs": [],
   "source": [
    "target_movie_data, _ = prepare_movie_data(target_movie, vectorizer)\n",
    "\n",
    "similarities = cosine_similarity(target_movie_data, all_movies_data)\n",
    "\n",
    "most_similar_indices = np.argsort(similarities[0])[::-1][1:11]"
   ]
  },
  {
   "cell_type": "code",
   "execution_count": 244,
   "metadata": {},
   "outputs": [
    {
     "name": "stdout",
     "output_type": "stream",
     "text": [
      "Argylle\n",
      "Poor Things\n",
      "Wonka\n",
      "Dune: Part Two\n",
      "Air Force One Down\n",
      "Land of Bad\n",
      "Madame Web\n",
      "Sri Asih\n",
      "No Way Up\n",
      "Migration\n"
     ]
    }
   ],
   "source": [
    "for index in most_similar_indices:\n",
    "    print(movies[index]['title'])"
   ]
  },
  {
   "cell_type": "code",
   "execution_count": 245,
   "metadata": {},
   "outputs": [],
   "source": [
    "genre_mapping = get_genre_mapping()\n",
    "movies = get_all_movies()['results']"
   ]
  },
  {
   "cell_type": "code",
   "execution_count": 246,
   "metadata": {},
   "outputs": [],
   "source": [
    "unique_genre_names = sorted(set(genre_mapping[genre_id] for movie in movies for genre_id in movie['genre_ids'] if genre_id in genre_mapping))\n",
    "\n",
    "def genres_vector(movie):\n",
    "    vector = np.zeros(len(unique_genre_names))\n",
    "    genre_ids = []\n",
    "    if 'genres' in movie:\n",
    "        genre_ids = [genre['id'] for genre in movie['genres']]\n",
    "    elif 'genre_ids' in movie:\n",
    "        genre_ids = movie['genre_ids']\n",
    "    \n",
    "    for genre_id in genre_ids:\n",
    "        if genre_id in genre_mapping:\n",
    "            genre_name = genre_mapping[genre_id]\n",
    "            genre_index = unique_genre_names.index(genre_name)\n",
    "            vector[genre_index] = 1\n",
    "    return vector"
   ]
  },
  {
   "cell_type": "code",
   "execution_count": 247,
   "metadata": {},
   "outputs": [],
   "source": [
    "def weighted_genres_vector(movie):\n",
    "    vector = np.zeros(len(unique_genre_names))\n",
    "    genre_ids = []\n",
    "    \n",
    "    if 'genres' in movie:\n",
    "        genre_ids = [genre['id'] for genre in movie['genres']]\n",
    "    elif 'genre_ids' in movie:\n",
    "        genre_ids = movie['genre_ids']\n",
    "    \n",
    "    for index, genre_id in enumerate(genre_ids):\n",
    "        if genre_id in genre_mapping:\n",
    "            genre_name = genre_mapping[genre_id]\n",
    "            genre_index = unique_genre_names.index(genre_name)\n",
    "            weight = 2 if index == 0 else 1\n",
    "            vector[genre_index] = weight\n",
    "    return vector\n"
   ]
  },
  {
   "cell_type": "code",
   "execution_count": 248,
   "metadata": {},
   "outputs": [],
   "source": [
    "all_genres_vectors = np.array([genres_vector(movie) for movie in movies])"
   ]
  },
  {
   "cell_type": "code",
   "execution_count": 249,
   "metadata": {},
   "outputs": [],
   "source": [
    "movie_id = 27205\n",
    "target_movie = search_movie_by_id(movie_id)\n",
    "target_movie_vector = genres_vector(target_movie)"
   ]
  },
  {
   "cell_type": "code",
   "execution_count": 250,
   "metadata": {},
   "outputs": [
    {
     "name": "stdout",
     "output_type": "stream",
     "text": [
      "[12  3  2 11  6 13 10  0  7  5]\n"
     ]
    }
   ],
   "source": [
    "similarities = np.dot(all_genres_vectors, target_movie_vector) / (np.linalg.norm(all_genres_vectors, axis=1) * np.linalg.norm(target_movie_vector))\n",
    "\n",
    "most_similar_indices_genres = np.argsort(similarities)[::-1][1:11]\n",
    "print(most_similar_indices_genres)"
   ]
  },
  {
   "cell_type": "code",
   "execution_count": 251,
   "metadata": {},
   "outputs": [
    {
     "name": "stdout",
     "output_type": "stream",
     "text": [
      "Dune: Part Two\n",
      "Sri Asih\n",
      "Damsel\n",
      "Code 8 Part II\n",
      "Argylle\n",
      "Vikings: Battle of Heirs\n",
      "Bullet Train Down\n",
      "Kung Fu Panda 4\n",
      "Migration\n",
      "Air Force One Down\n"
     ]
    }
   ],
   "source": [
    "for index in most_similar_indices_genres:\n",
    "    print(movies[index]['title'])"
   ]
  },
  {
   "cell_type": "code",
   "execution_count": 252,
   "metadata": {},
   "outputs": [],
   "source": [
    "all_genres_vectors = np.array([genres_vector(movie) for movie in movies])"
   ]
  },
  {
   "cell_type": "code",
   "execution_count": 253,
   "metadata": {},
   "outputs": [],
   "source": [
    "movie_id = 27205\n",
    "target_movie = search_movie_by_id(movie_id)\n",
    "target_movie_vector = weighted_genres_vector(target_movie)"
   ]
  },
  {
   "cell_type": "code",
   "execution_count": 254,
   "metadata": {},
   "outputs": [
    {
     "name": "stdout",
     "output_type": "stream",
     "text": [
      "[13 10  3  2 11  6  1 14 12  5]\n"
     ]
    }
   ],
   "source": [
    "similarities = np.dot(all_genres_vectors, target_movie_vector) / (np.linalg.norm(all_genres_vectors, axis=1) * np.linalg.norm(target_movie_vector))\n",
    "\n",
    "most_similar_indices_genres = np.argsort(similarities)[::-1][1:11]\n",
    "print(most_similar_indices_genres)"
   ]
  },
  {
   "cell_type": "code",
   "execution_count": 255,
   "metadata": {},
   "outputs": [
    {
     "name": "stdout",
     "output_type": "stream",
     "text": [
      "Vikings: Battle of Heirs\n",
      "Bullet Train Down\n",
      "Sri Asih\n",
      "Damsel\n",
      "Code 8 Part II\n",
      "Argylle\n",
      "Madame Web\n",
      "The Pig, the Snake and the Pigeon\n",
      "Dune: Part Two\n",
      "Air Force One Down\n"
     ]
    }
   ],
   "source": [
    "for index in most_similar_indices_genres:\n",
    "    print(movies[index]['title'])"
   ]
  },
  {
   "cell_type": "code",
   "execution_count": 256,
   "metadata": {},
   "outputs": [
    {
     "name": "stdout",
     "output_type": "stream",
     "text": [
      "Kung Fu Panda 4\n",
      "Damsel\n",
      "Sri Asih\n",
      "Argylle\n",
      "Migration\n",
      "Dune: Part Two\n",
      "Godzilla x Kong: The New Empire\n"
     ]
    }
   ],
   "source": [
    "def find_first_genre_index(genre_vector):\n",
    "    first_genre_indices = np.where(genre_vector == 1)[0]\n",
    "    if len(first_genre_indices) > 0:\n",
    "        return first_genre_indices[0]\n",
    "    return None\n",
    "\n",
    "target_first_genre_index = find_first_genre_index(target_movie_vector)\n",
    "\n",
    "\n",
    "def has_same_first_genre(target_genre_index, movie_vector):\n",
    "    return movie_vector[target_genre_index] == 1\n",
    "\n",
    "exact_matches_indices = [i for i, vector in enumerate(all_genres_vectors) if has_same_first_genre(target_first_genre_index, vector)]\n",
    "\n",
    "for index in exact_matches_indices:\n",
    "    print(movies[index]['title'])"
   ]
  },
  {
   "cell_type": "code",
   "execution_count": 257,
   "metadata": {},
   "outputs": [
    {
     "name": "stdout",
     "output_type": "stream",
     "text": [
      "Kung Fu Panda 4\n",
      "Damsel\n",
      "Sri Asih\n",
      "Argylle\n",
      "Migration\n",
      "Dune: Part Two\n",
      "Godzilla x Kong: The New Empire\n"
     ]
    }
   ],
   "source": [
    "def find_second_genre_index(genre_vector):\n",
    "    genre_indices = np.where(genre_vector == 1)[0]\n",
    "    if len(genre_indices) > 1:\n",
    "        return genre_indices[1]  \n",
    "    return None\n",
    "\n",
    "target_second_genre_index = find_second_genre_index(target_movie_vector)\n",
    "def has_same_genre(target_genre_index, movie_vector):\n",
    "    if target_genre_index is None:\n",
    "        return False \n",
    "    return movie_vector[target_genre_index] == 1\n",
    "\n",
    "exact_matches_indices_limited = exact_matches_indices[:10]\n",
    "\n",
    "for index in exact_matches_indices_limited:\n",
    "    print(movies[index]['title'])\n"
   ]
  },
  {
   "cell_type": "code",
   "execution_count": 258,
   "metadata": {},
   "outputs": [],
   "source": [
    "def get_genre_id_by_name(genre_name, genre_mapping):\n",
    "    name_to_id_mapping = {name: id for id, name in genre_mapping.items()}\n",
    "    return name_to_id_mapping.get(genre_name)\n",
    "\n",
    "def find_target_second_genre_id(target_movie_vector, unique_genre_names, genre_mapping):\n",
    "    second_genre_index = find_second_genre_index(target_movie_vector)\n",
    "    if second_genre_index is not None:\n",
    "        second_genre_name = unique_genre_names[second_genre_index]\n",
    "        return get_genre_id_by_name(second_genre_name, genre_mapping)\n",
    "    return None\n",
    "\n",
    "target_second_genre_id = find_target_second_genre_id(target_movie_vector, unique_genre_names, genre_mapping)\n"
   ]
  },
  {
   "cell_type": "code",
   "execution_count": 259,
   "metadata": {},
   "outputs": [
    {
     "name": "stdout",
     "output_type": "stream",
     "text": [
      "Sri Asih\n",
      "Megamind vs. the Doom Syndicate\n",
      "Code 8 Part II\n",
      "Dune: Part Two\n",
      "Godzilla x Kong: The New Empire\n",
      "Poor Things\n"
     ]
    }
   ],
   "source": [
    "def contains_genre(genre_id, movie):\n",
    "    return genre_id in movie.get('genre_ids', [])\n",
    "\n",
    "filtered_movies_indices = [i for i, movie in enumerate(movies) if contains_genre(target_second_genre_id, movie)]\n",
    "\n",
    "for index in filtered_movies_indices:\n",
    "    print(movies[index]['title'])\n"
   ]
  }
 ],
 "metadata": {
  "kernelspec": {
   "display_name": "Python 3",
   "language": "python",
   "name": "python3"
  },
  "language_info": {
   "codemirror_mode": {
    "name": "ipython",
    "version": 3
   },
   "file_extension": ".py",
   "mimetype": "text/x-python",
   "name": "python",
   "nbconvert_exporter": "python",
   "pygments_lexer": "ipython3",
   "version": "3.12.0"
  }
 },
 "nbformat": 4,
 "nbformat_minor": 2
}
