{
 "cells": [
  {
   "cell_type": "markdown",
   "metadata": {},
   "source": [
    "### Importando as bibliotecas"
   ]
  },
  {
   "cell_type": "code",
   "execution_count": 129,
   "metadata": {},
   "outputs": [],
   "source": [
    "import django\n",
    "import os\n",
    "os.environ.setdefault(\"DJANGO_SETTINGS_MODULE\", \"MovieRecomendation.settings\")\n",
    "django.setup()"
   ]
  },
  {
   "cell_type": "code",
   "execution_count": 130,
   "metadata": {},
   "outputs": [],
   "source": [
    "from recommendations.utils import get_all_movies, search_movies"
   ]
  },
  {
   "cell_type": "code",
   "execution_count": 131,
   "metadata": {},
   "outputs": [],
   "source": [
    "movies = get_all_movies()"
   ]
  },
  {
   "cell_type": "code",
   "execution_count": 132,
   "metadata": {},
   "outputs": [
    {
     "name": "stdout",
     "output_type": "stream",
     "text": [
      "{'page': 1, 'results': [{'adult': False, 'backdrop_path': '/mDeUmPe4MF35WWlAqj4QFX5UauJ.jpg', 'genre_ids': [28, 27, 53], 'id': 1096197, 'original_language': 'pt', 'original_title': 'No Way Up', 'overview': \"Characters from different backgrounds are thrown together when the plane they're travelling on crashes into the Pacific Ocean. A nightmare fight for survival ensues with the air supply running out and dangers creeping in from all sides.\", 'popularity': 1762.83, 'poster_path': '/hu40Uxp9WtpL34jv3zyWLb5zEVY.jpg', 'release_date': '2024-01-18', 'title': 'No Way Up', 'video': False, 'vote_average': 6.028, 'vote_count': 198}, {'adult': False, 'backdrop_path': '/gJL5kp5FMopB2sN4WZYnNT5uO0u.jpg', 'genre_ids': [28, 12, 16, 35, 10751], 'id': 1011985, 'original_language': 'en', 'original_title': 'Kung Fu Panda 4', 'overview': 'Po is gearing up to become the spiritual leader of his Valley of Peace, but also needs someone to take his place as Dragon Warrior. As such, he will train a new kung fu practitioner for the spot and will encounter a villain called the Chameleon who conjures villains from the past.', 'popularity': 1709.323, 'poster_path': '/kDp1vUBnMpe8ak4rjgl3cLELqjU.jpg', 'release_date': '2024-03-02', 'title': 'Kung Fu Panda 4', 'video': False, 'vote_average': 7.081, 'vote_count': 62}, {'adult': False, 'backdrop_path': '/bQS43HSLZzMjZkcHJz4fGc7fNdz.jpg', 'genre_ids': [878, 10749, 35], 'id': 792307, 'original_language': 'en', 'original_title': 'Poor Things', 'overview': 'Brought back to life by an unorthodox scientist, a young woman runs off with a debauched lawyer on a whirlwind adventure across the continents. Free from the prejudices of her times, she grows steadfast in her purpose to stand for equality and liberation.', 'popularity': 1632.828, 'poster_path': '/kCGlIMHnOm8JPXq3rXM6c5wMxcT.jpg', 'release_date': '2023-12-07', 'title': 'Poor Things', 'video': False, 'vote_average': 7.9, 'vote_count': 2085}, {'adult': False, 'backdrop_path': '/ekRp1sEA8pnuzVHQkUESTgNSKdW.jpg', 'genre_ids': [878, 28, 80], 'id': 932420, 'original_language': 'en', 'original_title': 'Code 8 Part II', 'overview': 'In a world where superpowered people are heavily policed by robots, an ex-con teams up with a drug lord he despises to protect a teen from a corrupt cop.', 'popularity': 1539.74, 'poster_path': '/hhvMTxlTZtnCOe7YFhod9uz3m37.jpg', 'release_date': '2024-02-27', 'title': 'Code 8 Part II', 'video': False, 'vote_average': 6.646, 'vote_count': 254}, {'adult': False, 'backdrop_path': '/3Kzc6V4MWs3RXCmE5DhAYnfWL8F.jpg', 'genre_ids': [16, 35, 878], 'id': 1239251, 'original_language': 'en', 'original_title': 'Megamind vs. the Doom Syndicate', 'overview': \"Megamind's former villain team, The Doom Syndicate, has returned. Our newly crowned blue hero must now keep up evil appearances until he can assemble his friends (Roxanne, Ol' Chum and Keiko) to stop his former evil teammates from launching Metro City to the Moon.\", 'popularity': 1513.628, 'poster_path': '/1N7terrMeZPwK5qq31MUD0HQ3IG.jpg', 'release_date': '2024-03-01', 'title': 'Megamind vs. the Doom Syndicate', 'video': False, 'vote_average': 5.554, 'vote_count': 101}, {'adult': False, 'backdrop_path': '/xvk5AhfhgQcTuaCQyq3XqAnhEma.jpg', 'genre_ids': [28, 12, 35], 'id': 848538, 'original_language': 'en', 'original_title': 'Argylle', 'overview': \"When the plots of reclusive author Elly Conway's fictional espionage novels begin to mirror the covert actions of a real-life spy organization, quiet evenings at home become a thing of the past. Accompanied by her cat Alfie and Aiden, a cat-allergic spy, Elly races across the world to stay one step ahead of the killers as the line between Conway's fictional world and her real one begins to blur.\", 'popularity': 1169.227, 'poster_path': '/95VlSEfLMqeX36UVcHJuNlWEpwf.jpg', 'release_date': '2024-01-31', 'title': 'Argylle', 'video': False, 'vote_average': 6.124, 'vote_count': 503}, {'adult': False, 'backdrop_path': '/f6ahdeUZPwUVirr86gcZ1QmiasQ.jpg', 'genre_ids': [878, 12], 'id': 693134, 'original_language': 'en', 'original_title': 'Dune: Part Two', 'overview': 'Follow the mythic journey of Paul Atreides as he unites with Chani and the Fremen while on a path of revenge against the conspirators who destroyed his family. Facing a choice between the love of his life and the fate of the known universe, Paul endeavors to prevent a terrible future only he can foresee.', 'popularity': 1114.185, 'poster_path': '/8b8R8l88Qje9dn9OE8PY05Nxl1X.jpg', 'release_date': '2024-02-27', 'title': 'Dune: Part Two', 'video': False, 'vote_average': 8.419, 'vote_count': 1438}, {'adult': False, 'backdrop_path': '/meyhnvssZOPPjud4F1CjOb4snET.jpg', 'genre_ids': [16, 28, 12, 35, 10751], 'id': 940551, 'original_language': 'en', 'original_title': 'Migration', 'overview': 'After a migrating duck family alights on their pond with thrilling tales of far-flung places, the Mallard family embarks on a family road trip, from New England, to New York City, to tropical Jamaica.', 'popularity': 1066.069, 'poster_path': '/ldfCF9RhR40mppkzmftxapaHeTo.jpg', 'release_date': '2023-12-06', 'title': 'Migration', 'video': False, 'vote_average': 7.558, 'vote_count': 910}, {'adult': False, 'backdrop_path': '/oBIQDKcqNxKckjugtmzpIIOgoc4.jpg', 'genre_ids': [28, 53, 10752], 'id': 969492, 'original_language': 'en', 'original_title': 'Land of Bad', 'overview': 'When a Delta Force special ops mission goes terribly wrong, Air Force drone pilot Reaper has 48 hours to remedy what has devolved into a wild rescue operation. With no weapons and no communication other than the drone above, the ground mission suddenly becomes a full-scale battle when the team is discovered by the enemy.', 'popularity': 1019.2, 'poster_path': '/h27WHO2czaY5twDmV3Wfx5IdqoE.jpg', 'release_date': '2024-01-25', 'title': 'Land of Bad', 'video': False, 'vote_average': 6.932, 'vote_count': 322}, {'adult': False, 'backdrop_path': '/hIUs8RzKlrzgbWxn2EpWmiTFqCc.jpg', 'genre_ids': [878, 53], 'id': 870404, 'original_language': 'en', 'original_title': 'Meteor', 'overview': 'After a meteor collides into Earth, a lonely rancher and a lost young girl are on the run from vicious mercenaries.', 'popularity': 850.118, 'poster_path': '/tVMddOS5bi3YPVPgTPlEw0TOWoF.jpg', 'release_date': '2021-09-01', 'title': 'Meteor', 'video': False, 'vote_average': 5.444, 'vote_count': 80}, {'adult': False, 'backdrop_path': '/fm6KqXpk3M2HVveHwCrBSSBaO0V.jpg', 'genre_ids': [18, 36], 'id': 872585, 'original_language': 'en', 'original_title': 'Oppenheimer', 'overview': \"The story of J. Robert Oppenheimer's role in the development of the atomic bomb during World War II.\", 'popularity': 824.209, 'poster_path': '/8Gxv8gSFCU0XGDykEGv7zR1n2ua.jpg', 'release_date': '2023-07-19', 'title': 'Oppenheimer', 'video': False, 'vote_average': 8.115, 'vote_count': 7079}, {'adult': False, 'backdrop_path': '/nTPFkLUARmo1bYHfkfdNpRKgEOs.jpg', 'genre_ids': [35, 10749], 'id': 1072790, 'original_language': 'en', 'original_title': 'Anyone But You', 'overview': 'After an amazing first date, Bea and Ben’s fiery attraction turns ice cold — until they find themselves unexpectedly reunited at a destination wedding in Australia. So they do what any two mature adults would do: pretend to be a couple.', 'popularity': 822.681, 'poster_path': '/5qHoazZiaLe7oFBok7XlUhg96f2.jpg', 'release_date': '2023-12-21', 'title': 'Anyone But You', 'video': False, 'vote_average': 6.993, 'vote_count': 934}, {'adult': False, 'backdrop_path': '/td2NcEUn7MPWzpFFjvHLsVQ2pkZ.jpg', 'genre_ids': [28, 53], 'id': 984249, 'original_language': 'en', 'original_title': 'Ruthless', 'overview': 'A high school coach, whose teenage daughter was murdered, takes matters into his own hands by going after the men who kidnap his students for their sex trafficking operation.', 'popularity': 776.904, 'poster_path': '/3hVt5fEuUxNZ5h6ynczcUbq6lpJ.jpg', 'release_date': '2023-12-14', 'title': 'Ruthless', 'video': False, 'vote_average': 6.6, 'vote_count': 26}, {'adult': False, 'backdrop_path': '/yyFc8Iclt2jxPmLztbP617xXllT.jpg', 'genre_ids': [35, 10751, 14], 'id': 787699, 'original_language': 'en', 'original_title': 'Wonka', 'overview': 'Willy Wonka – chock-full of ideas and determined to change the world one delectable bite at a time – is proof that the best things in life begin with a dream, and if you’re lucky enough to meet Willy Wonka, anything is possible.', 'popularity': 752.187, 'poster_path': '/qhb1qOilapbapxWQn9jtRCMwXJF.jpg', 'release_date': '2023-12-06', 'title': 'Wonka', 'video': False, 'vote_average': 7.19, 'vote_count': 2480}, {'adult': False, 'backdrop_path': '/lzWHmYdfeFiMIY4JaMmtR7GEli3.jpg', 'genre_ids': [878, 12], 'id': 438631, 'original_language': 'en', 'original_title': 'Dune', 'overview': \"Paul Atreides, a brilliant and gifted young man born into a great destiny beyond his understanding, must travel to the most dangerous planet in the universe to ensure the future of his family and his people. As malevolent forces explode into conflict over the planet's exclusive supply of the most precious resource in existence-a commodity capable of unlocking humanity's greatest potential-only those who can conquer their fear will survive.\", 'popularity': 716.665, 'poster_path': '/d5NXSklXo0qyIYkgV94XAgMIckC.jpg', 'release_date': '2021-09-15', 'title': 'Dune', 'video': False, 'vote_average': 7.786, 'vote_count': 10677}, {'adult': False, 'backdrop_path': '/824e60sDlEXUP1vXCYNqh5RSlI5.jpg', 'genre_ids': [878, 12], 'id': 636706, 'original_language': 'en', 'original_title': 'Spaceman', 'overview': 'During a research mission, an astronaut discovers that his marriage is in trouble. Luckily, he has the help of a mysterious creature hidden in his ship.', 'popularity': 646.348, 'poster_path': '/jDdnDEGu3GiLtJwDXeL4hfFzmGv.jpg', 'release_date': '2024-02-23', 'title': 'Spaceman', 'video': False, 'vote_average': 6.668, 'vote_count': 307}, {'adult': False, 'backdrop_path': '/4MCKNAc6AbWjEsM2h9Xc29owo4z.jpg', 'genre_ids': [28, 53, 18], 'id': 866398, 'original_language': 'en', 'original_title': 'The Beekeeper', 'overview': \"One man's campaign for vengeance takes on national stakes after he is revealed to be a former operative of a powerful and clandestine organization known as Beekeepers.\", 'popularity': 603.054, 'poster_path': '/A7EByudX0eOzlkQ2FIbogzyazm2.jpg', 'release_date': '2024-01-08', 'title': 'The Beekeeper', 'video': False, 'vote_average': 7.464, 'vote_count': 1660}, {'adult': False, 'backdrop_path': '/xi2pblvQtCnh26SeOYzx1YX3DLT.jpg', 'genre_ids': [80, 28, 53], 'id': 1227816, 'original_language': 'en', 'original_title': 'Red Right Hand', 'overview': \"Cash is trying to live a quiet, honest life in a small Appalachian town. When a vicious crime boss forces him back into her services, he soon learns he's capable of anything -- even killing -- to protect his family and his home.\", 'popularity': 598.228, 'poster_path': '/vfEG79SQIg3p6B8rBLVeIo2BBhb.jpg', 'release_date': '2024-02-22', 'title': 'Red Right Hand', 'video': False, 'vote_average': 7.0, 'vote_count': 50}, {'adult': False, 'backdrop_path': '/midCh3iVxaG3dUOrP9TnUpNcGm.jpg', 'genre_ids': [16, 12, 14], 'id': 508883, 'original_language': 'ja', 'original_title': '君たちはどう生きるか', 'overview': 'While the Second World War rages, the teenage Mahito, haunted by his mother\\'s tragic death, is relocated from Tokyo to the serene rural home of his new stepmother Natsuko, a woman who bears a striking resemblance to the boy\\'s mother. As he tries to adjust, this strange new world grows even stranger following the appearance of a persistent gray heron, who perplexes and bedevils Mahito, dubbing him the \"long-awaited one.\"', 'popularity': 577.329, 'poster_path': '/jDQPkgzerGophKRRn7MKm071vCU.jpg', 'release_date': '2023-07-14', 'title': 'The Boy and the Heron', 'video': False, 'vote_average': 7.5, 'vote_count': 1038}, {'adult': False, 'backdrop_path': '/feSiISwgEpVzR1v3zv2n2AU4ANJ.jpg', 'genre_ids': [878, 12, 28], 'id': 609681, 'original_language': 'en', 'original_title': 'The Marvels', 'overview': 'Carol Danvers, aka Captain Marvel, has reclaimed her identity from the tyrannical Kree and taken revenge on the Supreme Intelligence. But unintended consequences see Carol shouldering the burden of a destabilized universe. When her duties send her to an anomalous wormhole linked to a Kree revolutionary, her powers become entangled with that of Jersey City super-fan Kamala Khan, aka Ms. Marvel, and Carol’s estranged niece, now S.A.B.E.R. astronaut Captain Monica Rambeau. Together, this unlikely trio must team up and learn to work in concert to save the universe.', 'popularity': 556.397, 'poster_path': '/9GBhzXMFjgcZ3FdR9w3bUMMTps5.jpg', 'release_date': '2023-11-08', 'title': 'The Marvels', 'video': False, 'vote_average': 6.214, 'vote_count': 2022}], 'total_pages': 42953, 'total_results': 859046}\n"
     ]
    }
   ],
   "source": [
    "print(movies)"
   ]
  },
  {
   "cell_type": "code",
   "execution_count": 133,
   "metadata": {},
   "outputs": [],
   "source": [
    "query = 'Inception'\n",
    "search_results = search_movies(query)"
   ]
  },
  {
   "cell_type": "code",
   "execution_count": 134,
   "metadata": {},
   "outputs": [
    {
     "name": "stdout",
     "output_type": "stream",
     "text": [
      "{'page': 1, 'results': [{'adult': False, 'backdrop_path': '/8ZTVqvKDQ8emSGUEMjsS4yHAwrp.jpg', 'genre_ids': [28, 878, 12], 'id': 27205, 'original_language': 'en', 'original_title': 'Inception', 'overview': 'Cobb, a skilled thief who commits corporate espionage by infiltrating the subconscious of his targets is offered a chance to regain his old life as payment for a task considered to be impossible: \"inception\", the implantation of another person\\'s idea into a target\\'s subconscious.', 'popularity': 91.312, 'poster_path': '/oYuLEt3zVCKq57qu2F8dT7NIa6f.jpg', 'release_date': '2010-07-15', 'title': 'Inception', 'video': False, 'vote_average': 8.367, 'vote_count': 35389}, {'adult': False, 'backdrop_path': '/JeGkRdNsOuMrgwBdtB0hp763MU.jpg', 'genre_ids': [18, 53], 'id': 613092, 'original_language': 'es', 'original_title': 'El crack cero', 'overview': 'Madrid, Spain, 1975; shortly after the end of the Franco dictatorship. Six months after the mysterious death of his lover, a prestigious tailor, a married woman visits the office of the young Germán Areta, a former police officer turned private detective, to request his professional services.', 'popularity': 8.8, 'poster_path': '/kzgPu2CMxBr4YZZxC1Off4cUfR9.jpg', 'release_date': '2019-10-04', 'title': 'The Crack: Inception', 'video': False, 'vote_average': 6.635, 'vote_count': 37}, {'adult': False, 'backdrop_path': None, 'genre_ids': [16, 28, 53, 878], 'id': 64956, 'original_language': 'en', 'original_title': 'Inception: The Cobol Job', 'overview': 'This \"Inception\" prequel unfolds courtesy of a beautiful Motion Comic, and explains how Cobb, Arthur and Nash were enlisted by Cobol Engineering.', 'popularity': 14.97, 'poster_path': '/sNxqwtyHMNQwKWoFYDqcYTui5Ok.jpg', 'release_date': '2010-12-07', 'title': 'Inception: The Cobol Job', 'video': False, 'vote_average': 7.263, 'vote_count': 298}, {'adult': False, 'backdrop_path': None, 'genre_ids': [], 'id': 350632, 'original_language': 'en', 'original_title': 'Nātyārambham', 'overview': 'On certain Adavus: the basic steps in Bharatanatyam. The first part covers Tatta Adavu, Natta Adavu, Visharu Adavu , Tatti Metti Adavu and Teermanam Adavu.', 'popularity': 0.6, 'poster_path': None, 'release_date': '', 'title': 'The Inception of Dramatic Representation', 'video': True, 'vote_average': 5.8, 'vote_count': 3}, {'adult': False, 'backdrop_path': None, 'genre_ids': [35], 'id': 542438, 'original_language': 'en', 'original_title': 'Bikini Inception', 'overview': \"Two flunky Janitors in an Arctic Lab perform unauthorized experiments transporting them to a beach dream world in Malibu California w/50 beautiful young girls and a female Brazilian PhD Student wearing only a bra and panties. A '67 Muscle car races chases horses guns fights surfing, sumo wrestler, wolf monster, underwater scenes tons of gorgeous models. Sexy sci-fi fun.\", 'popularity': 5.144, 'poster_path': '/mNASlEOFX2c9upxaSbgeKFvIr1L.jpg', 'release_date': '2015-05-19', 'title': 'Bikini Inception', 'video': False, 'vote_average': 7.0, 'vote_count': 1}, {'adult': False, 'backdrop_path': None, 'genre_ids': [10402], 'id': 973484, 'original_language': 'en', 'original_title': 'Inception: Music from the Motion Picture', 'overview': 'The Special Features Blu-ray disc contains a lossless DTS-HD MA 5.1 surround mix of the Inception soundtrack.', 'popularity': 1.4, 'poster_path': '/7uM4DyRVAcgagvhZoWrkrqMPbqV.jpg', 'release_date': '2010-12-07', 'title': 'Inception: Music from the Motion Picture', 'video': True, 'vote_average': 6.0, 'vote_count': 1}, {'adult': False, 'backdrop_path': None, 'genre_ids': [], 'id': 250845, 'original_language': 'en', 'original_title': 'WWA The Inception', 'overview': 'The first World Wrestling Allstars pay per view, live from Sydney, Australia! A tournament titled \"7 Deadly Sins\", each round having a stipulation match, the winner will be crowned the first ever WWA Heavyweight Champion! Wrestlers such as Jeff Jarrett, Road Dogg, Jerry Lawler all compete in the tournament, with the WWA Commissioner, Bret Hart not too far away to make sure nothing gets to far out of hand!', 'popularity': 3.321, 'poster_path': None, 'release_date': '2001-10-26', 'title': 'WWA The Inception', 'video': True, 'vote_average': 3.1, 'vote_count': 5}], 'total_pages': 1, 'total_results': 7}\n"
     ]
    }
   ],
   "source": [
    "print(search_results)"
   ]
  },
  {
   "cell_type": "code",
   "execution_count": 135,
   "metadata": {},
   "outputs": [
    {
     "name": "stdout",
     "output_type": "stream",
     "text": [
      "Requirement already satisfied: scikit-learn in c:\\python312\\lib\\site-packages (1.4.1.post1)\n",
      "Requirement already satisfied: numpy<2.0,>=1.19.5 in c:\\python312\\lib\\site-packages (from scikit-learn) (1.26.2)\n",
      "Requirement already satisfied: scipy>=1.6.0 in c:\\python312\\lib\\site-packages (from scikit-learn) (1.12.0)\n",
      "Requirement already satisfied: joblib>=1.2.0 in c:\\python312\\lib\\site-packages (from scikit-learn) (1.3.2)\n",
      "Requirement already satisfied: threadpoolctl>=2.0.0 in c:\\python312\\lib\\site-packages (from scikit-learn) (3.3.0)\n",
      "Note: you may need to restart the kernel to use updated packages.\n"
     ]
    }
   ],
   "source": [
    "%pip install scikit-learn"
   ]
  },
  {
   "cell_type": "code",
   "execution_count": 136,
   "metadata": {},
   "outputs": [],
   "source": [
    "import numpy as np\n",
    "from sklearn.feature_extraction.text import TfidfVectorizer\n",
    "from sklearn.neighbors import NearestNeighbors\n",
    "from sklearn.preprocessing import MultiLabelBinarizer, StandardScaler"
   ]
  },
  {
   "cell_type": "code",
   "execution_count": 137,
   "metadata": {},
   "outputs": [],
   "source": [
    "genres = [movie['genre_ids'] for movie in search_results['results']]\n",
    "votes = [[movie['vote_average']] for movie in search_results['results']]\n",
    "\n",
    "mlb = MultiLabelBinarizer()\n",
    "genres_encoded = mlb.fit_transform(genres)\n",
    "\n",
    "scaler = StandardScaler()\n",
    "votes_scaled = scaler.fit_transform(votes)\n",
    "\n",
    "features = np.hstack((genres_encoded, votes_scaled))"
   ]
  },
  {
   "cell_type": "code",
   "execution_count": 138,
   "metadata": {},
   "outputs": [
    {
     "name": "stdout",
     "output_type": "stream",
     "text": [
      "['Inception', 'Inception: The Cobol Job', 'Bikini Inception', 'The Crack: Inception', 'Inception: Music from the Motion Picture']\n"
     ]
    }
   ],
   "source": [
    "model_knn = NearestNeighbors(metric='cosine', algorithm='brute', n_neighbors=5, n_jobs=-1)\n",
    "model_knn.fit(features)\n",
    "distances, indices = model_knn.kneighbors([features[0]], n_neighbors=5)\n",
    "similar_movies_titles = [search_results['results'][i]['title'] for i in indices.flatten()]\n",
    "print(similar_movies_titles)"
   ]
  }
 ],
 "metadata": {
  "kernelspec": {
   "display_name": "Python 3",
   "language": "python",
   "name": "python3"
  },
  "language_info": {
   "codemirror_mode": {
    "name": "ipython",
    "version": 3
   },
   "file_extension": ".py",
   "mimetype": "text/x-python",
   "name": "python",
   "nbconvert_exporter": "python",
   "pygments_lexer": "ipython3",
   "version": "3.12.0"
  }
 },
 "nbformat": 4,
 "nbformat_minor": 2
}
